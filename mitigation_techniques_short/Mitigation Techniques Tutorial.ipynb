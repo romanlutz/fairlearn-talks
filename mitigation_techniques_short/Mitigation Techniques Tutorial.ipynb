{
 "cells": [
  {
   "cell_type": "markdown",
   "metadata": {
    "id": "NDxtnoIr7mIN"
   },
   "source": [
    "# <br>_Assessing and mitigating unfairness in AI Systems<br>_\n",
    "\n",
    "\n",
    "This is a very shortened version of the Fairlearn talks at PyData and SciPy. For the full version with a lot more focus on dataset, task, and sociotechnical framing, please refer to https://github.com/fairlearn/talks. The purpose of this talk is to talk a bit about the mitigation techniques, so we will not go into as much detail."
   ]
  },
  {
   "cell_type": "markdown",
   "metadata": {
    "id": "Sch9KDWg7SL8"
   },
   "source": [
    "Fairness in AI systems is an interdisciplinary field of research and practice that aims to understand and address some of the negative impacts of AI systems on society. In this workshop, we will walk through the process of assessing and mitigating fairness-related harms in the context of the U.S. health care system using *Fairlearn*."
   ]
  },
  {
   "cell_type": "markdown",
   "metadata": {
    "id": "0gZTFumIxCfK"
   },
   "source": [
    "# **Introduction of Fairlearn**\n"
   ]
  },
  {
   "cell_type": "markdown",
   "metadata": {
    "id": "ORfTAukTuEPN"
   },
   "source": [
    "### [Fairlearn](https://fairlearn.org)\n",
    "\n",
    "Fairlearn is an open-source, community-driven project to help data scientists improve fairness of AI systems. It includes:\n",
    "\n",
    "* A Python library for fairness assessment and improvement (fairness metrics, mitigation algorithms, plotting, etc.)\n",
    "\n",
    "* Educational resources covering organizational and technical processes for unfairness mitigation (user guide, case studies, Jupyter notebooks, etc.)\n",
    "\n",
    "The project was started in 2018 at Microsoft Research. In 2021 it adopted neutral governance structure and since then it is completely community-driven."
   ]
  },
  {
   "cell_type": "markdown",
   "metadata": {
    "id": "fboVvqvVvpKz"
   },
   "source": [
    "# **Prepare environment**"
   ]
  },
  {
   "cell_type": "markdown",
   "metadata": {
    "id": "fVtpwFGJLcgU"
   },
   "source": [
    "## Import and set up packages"
   ]
  },
  {
   "cell_type": "code",
   "execution_count": 1,
   "metadata": {
    "id": "cEwLsWyTLgJn"
   },
   "outputs": [],
   "source": [
    "import numpy as np\n",
    "import pandas as pd\n",
    "\n",
    "pd.set_option(\"display.float_format\", \"{:.3f}\".format)"
   ]
  },
  {
   "cell_type": "code",
   "execution_count": 2,
   "metadata": {
    "id": "wBOSsyc48MK0"
   },
   "outputs": [],
   "source": [
    "import matplotlib.pyplot as plt\n",
    "import seaborn as sns\n",
    "\n",
    "sns.set()"
   ]
  },
  {
   "cell_type": "code",
   "execution_count": 3,
   "metadata": {
    "id": "VhbFzU6GLgW0"
   },
   "outputs": [],
   "source": [
    "from sklearn.linear_model import LogisticRegression\n",
    "from sklearn.model_selection import train_test_split\n",
    "from sklearn.preprocessing import StandardScaler\n",
    "from sklearn.pipeline import Pipeline\n",
    "from sklearn.utils import Bunch\n",
    "from sklearn.metrics import (\n",
    "    balanced_accuracy_score,\n",
    "    roc_auc_score,\n",
    "    accuracy_score,\n",
    "    recall_score,\n",
    "    confusion_matrix,\n",
    "    roc_auc_score,\n",
    "    roc_curve,\n",
    "    plot_roc_curve)\n",
    "from sklearn import set_config\n",
    "\n",
    "set_config(display=\"diagram\")"
   ]
  },
  {
   "cell_type": "code",
   "execution_count": 4,
   "metadata": {
    "id": "GcilMnWhLgaT"
   },
   "outputs": [],
   "source": [
    "from fairlearn.metrics import (\n",
    "    MetricFrame,\n",
    "    true_positive_rate,\n",
    "    false_positive_rate,\n",
    "    false_negative_rate,\n",
    "    selection_rate,\n",
    "    count,\n",
    "    false_negative_rate_difference\n",
    ")\n",
    "\n",
    "from fairlearn.postprocessing import ThresholdOptimizer, plot_threshold_optimizer\n",
    "from fairlearn.postprocessing._interpolated_thresholder import InterpolatedThresholder\n",
    "from fairlearn.postprocessing._threshold_operation import ThresholdOperation\n",
    "from fairlearn.reductions import ExponentiatedGradient, EqualizedOdds, TruePositiveRateParity"
   ]
  },
  {
   "cell_type": "code",
   "execution_count": 5,
   "metadata": {
    "id": "S4ANMj1M8k0h"
   },
   "outputs": [],
   "source": [
    "from IPython import display\n",
    "from datetime import date\n",
    "import warnings\n",
    "\n",
    "warnings.simplefilter(\"ignore\")"
   ]
  },
  {
   "cell_type": "markdown",
   "metadata": {
    "id": "4OoPTetsDv-v"
   },
   "source": [
    "# **Overview of fairness in AI systems**"
   ]
  },
  {
   "cell_type": "markdown",
   "metadata": {
    "id": "_j1vtg6TD7Fi"
   },
   "source": [
    "# **Introduction to the health care scenario**"
   ]
  },
  {
   "cell_type": "markdown",
   "metadata": {
    "id": "HUkG_zdEylGU"
   },
   "source": [
    "Our scenario builds on previous research that highlighted racial disparities in how health care resources are allocated in the U.S. ([Obermeyer et al., 2019](https://science.sciencemag.org/content/366/6464/447.full)).\n",
    "Motivated by that work, in this tutorial we consider an automated system for recommending patients for _high-risk care management_ programs. In short, we take historical records of re-admissions into hospital as a proxy that patients needed more attention. This is taken as our label that we wish to predict. \n",
    "\n",
    "In practice, the modeling of health needs would use large data sets covering a wide range of diagnoses. In this tutorial, we will work with a [publicly available clinical dataset](https://archive.ics.uci.edu/ml/datasets/Diabetes+130-US+hospitals+for+years+1999-2008) that focuses on _diabetic patients only_ ([Strack et al., 2014](https://www.hindawi.com/journals/bmri/2014/781670/))."
   ]
  },
  {
   "cell_type": "markdown",
   "metadata": {
    "id": "2BE26iXWwUqr"
   },
   "source": [
    "## Fairness considerations"
   ]
  },
  {
   "cell_type": "markdown",
   "metadata": {
    "id": "eZUcQVZYyRvz"
   },
   "source": [
    "* _Which groups are most likely to be disproportionately negatively affected?_ Previous work suggests that groups with different race and ethnicity can be differently affected.\n",
    "\n",
    "* _What are the harms?_ The key harms here are allocation harms. In particular, false negatives, i.e., don't recommend somebody who will be readmitted.\n",
    "\n",
    "* _How should we measure those harms?_\n"
   ]
  },
  {
   "cell_type": "markdown",
   "metadata": {
    "id": "R7tpRumX_4Nh"
   },
   "source": [
    "# Dataset characteristics"
   ]
  },
  {
   "cell_type": "markdown",
   "metadata": {
    "id": "3-ABnntZT8Fn"
   },
   "source": [
    "## Load the dataset\n"
   ]
  },
  {
   "cell_type": "markdown",
   "metadata": {
    "id": "bvyHqcLIT8Fo"
   },
   "source": [
    "We next load the dataset and review the meaning of its columns.\n"
   ]
  },
  {
   "cell_type": "code",
   "execution_count": 6,
   "metadata": {
    "id": "gkfwniFQT8Fp"
   },
   "outputs": [],
   "source": [
    "df = pd.read_csv(\"https://raw.githubusercontent.com/fairlearn/talks/main/2021_scipy_tutorial/data/diabetic_preprocessed.csv\")"
   ]
  },
  {
   "cell_type": "code",
   "execution_count": 7,
   "metadata": {
    "colab": {
     "base_uri": "https://localhost:8080/",
     "height": 360
    },
    "id": "mIFN96kiT8Fq",
    "outputId": "9dbf587e-5f51-4dc4-877a-3ffb9a7374a2"
   },
   "outputs": [
    {
     "data": {
      "text/html": [
       "<div>\n",
       "<style scoped>\n",
       "    .dataframe tbody tr th:only-of-type {\n",
       "        vertical-align: middle;\n",
       "    }\n",
       "\n",
       "    .dataframe tbody tr th {\n",
       "        vertical-align: top;\n",
       "    }\n",
       "\n",
       "    .dataframe thead th {\n",
       "        text-align: right;\n",
       "    }\n",
       "</style>\n",
       "<table border=\"1\" class=\"dataframe\">\n",
       "  <thead>\n",
       "    <tr style=\"text-align: right;\">\n",
       "      <th></th>\n",
       "      <th>race</th>\n",
       "      <th>gender</th>\n",
       "      <th>age</th>\n",
       "      <th>discharge_disposition_id</th>\n",
       "      <th>admission_source_id</th>\n",
       "      <th>time_in_hospital</th>\n",
       "      <th>medical_specialty</th>\n",
       "      <th>num_lab_procedures</th>\n",
       "      <th>num_procedures</th>\n",
       "      <th>num_medications</th>\n",
       "      <th>...</th>\n",
       "      <th>change</th>\n",
       "      <th>diabetesMed</th>\n",
       "      <th>medicare</th>\n",
       "      <th>medicaid</th>\n",
       "      <th>had_emergency</th>\n",
       "      <th>had_inpatient_days</th>\n",
       "      <th>had_outpatient_days</th>\n",
       "      <th>readmitted</th>\n",
       "      <th>readmit_binary</th>\n",
       "      <th>readmit_30_days</th>\n",
       "    </tr>\n",
       "  </thead>\n",
       "  <tbody>\n",
       "    <tr>\n",
       "      <th>0</th>\n",
       "      <td>Caucasian</td>\n",
       "      <td>Female</td>\n",
       "      <td>30 years or younger</td>\n",
       "      <td>Other</td>\n",
       "      <td>Referral</td>\n",
       "      <td>1</td>\n",
       "      <td>Other</td>\n",
       "      <td>41</td>\n",
       "      <td>0</td>\n",
       "      <td>1</td>\n",
       "      <td>...</td>\n",
       "      <td>No</td>\n",
       "      <td>No</td>\n",
       "      <td>False</td>\n",
       "      <td>False</td>\n",
       "      <td>False</td>\n",
       "      <td>False</td>\n",
       "      <td>False</td>\n",
       "      <td>NO</td>\n",
       "      <td>0</td>\n",
       "      <td>0</td>\n",
       "    </tr>\n",
       "    <tr>\n",
       "      <th>1</th>\n",
       "      <td>Caucasian</td>\n",
       "      <td>Female</td>\n",
       "      <td>30 years or younger</td>\n",
       "      <td>Discharged to Home</td>\n",
       "      <td>Emergency</td>\n",
       "      <td>3</td>\n",
       "      <td>Missing</td>\n",
       "      <td>59</td>\n",
       "      <td>0</td>\n",
       "      <td>18</td>\n",
       "      <td>...</td>\n",
       "      <td>Ch</td>\n",
       "      <td>Yes</td>\n",
       "      <td>False</td>\n",
       "      <td>False</td>\n",
       "      <td>False</td>\n",
       "      <td>False</td>\n",
       "      <td>False</td>\n",
       "      <td>&gt;30</td>\n",
       "      <td>1</td>\n",
       "      <td>0</td>\n",
       "    </tr>\n",
       "    <tr>\n",
       "      <th>2</th>\n",
       "      <td>AfricanAmerican</td>\n",
       "      <td>Female</td>\n",
       "      <td>30 years or younger</td>\n",
       "      <td>Discharged to Home</td>\n",
       "      <td>Emergency</td>\n",
       "      <td>2</td>\n",
       "      <td>Missing</td>\n",
       "      <td>11</td>\n",
       "      <td>5</td>\n",
       "      <td>13</td>\n",
       "      <td>...</td>\n",
       "      <td>No</td>\n",
       "      <td>Yes</td>\n",
       "      <td>False</td>\n",
       "      <td>False</td>\n",
       "      <td>False</td>\n",
       "      <td>True</td>\n",
       "      <td>True</td>\n",
       "      <td>NO</td>\n",
       "      <td>0</td>\n",
       "      <td>0</td>\n",
       "    </tr>\n",
       "    <tr>\n",
       "      <th>3</th>\n",
       "      <td>Caucasian</td>\n",
       "      <td>Male</td>\n",
       "      <td>30-60 years</td>\n",
       "      <td>Discharged to Home</td>\n",
       "      <td>Emergency</td>\n",
       "      <td>2</td>\n",
       "      <td>Missing</td>\n",
       "      <td>44</td>\n",
       "      <td>1</td>\n",
       "      <td>16</td>\n",
       "      <td>...</td>\n",
       "      <td>Ch</td>\n",
       "      <td>Yes</td>\n",
       "      <td>False</td>\n",
       "      <td>False</td>\n",
       "      <td>False</td>\n",
       "      <td>False</td>\n",
       "      <td>False</td>\n",
       "      <td>NO</td>\n",
       "      <td>0</td>\n",
       "      <td>0</td>\n",
       "    </tr>\n",
       "    <tr>\n",
       "      <th>4</th>\n",
       "      <td>Caucasian</td>\n",
       "      <td>Male</td>\n",
       "      <td>30-60 years</td>\n",
       "      <td>Discharged to Home</td>\n",
       "      <td>Emergency</td>\n",
       "      <td>1</td>\n",
       "      <td>Missing</td>\n",
       "      <td>51</td>\n",
       "      <td>0</td>\n",
       "      <td>8</td>\n",
       "      <td>...</td>\n",
       "      <td>Ch</td>\n",
       "      <td>Yes</td>\n",
       "      <td>False</td>\n",
       "      <td>False</td>\n",
       "      <td>False</td>\n",
       "      <td>False</td>\n",
       "      <td>False</td>\n",
       "      <td>NO</td>\n",
       "      <td>0</td>\n",
       "      <td>0</td>\n",
       "    </tr>\n",
       "  </tbody>\n",
       "</table>\n",
       "<p>5 rows × 25 columns</p>\n",
       "</div>"
      ],
      "text/plain": [
       "              race  gender                  age discharge_disposition_id  \\\n",
       "0        Caucasian  Female  30 years or younger                    Other   \n",
       "1        Caucasian  Female  30 years or younger       Discharged to Home   \n",
       "2  AfricanAmerican  Female  30 years or younger       Discharged to Home   \n",
       "3        Caucasian    Male          30-60 years       Discharged to Home   \n",
       "4        Caucasian    Male          30-60 years       Discharged to Home   \n",
       "\n",
       "  admission_source_id  time_in_hospital medical_specialty  num_lab_procedures  \\\n",
       "0            Referral                 1             Other                  41   \n",
       "1           Emergency                 3           Missing                  59   \n",
       "2           Emergency                 2           Missing                  11   \n",
       "3           Emergency                 2           Missing                  44   \n",
       "4           Emergency                 1           Missing                  51   \n",
       "\n",
       "   num_procedures  num_medications  ... change  diabetesMed medicare medicaid  \\\n",
       "0               0                1  ...     No           No    False    False   \n",
       "1               0               18  ...     Ch          Yes    False    False   \n",
       "2               5               13  ...     No          Yes    False    False   \n",
       "3               1               16  ...     Ch          Yes    False    False   \n",
       "4               0                8  ...     Ch          Yes    False    False   \n",
       "\n",
       "  had_emergency had_inpatient_days had_outpatient_days  readmitted  \\\n",
       "0         False              False               False          NO   \n",
       "1         False              False               False         >30   \n",
       "2         False               True                True          NO   \n",
       "3         False              False               False          NO   \n",
       "4         False              False               False          NO   \n",
       "\n",
       "   readmit_binary  readmit_30_days  \n",
       "0               0                0  \n",
       "1               1                0  \n",
       "2               0                0  \n",
       "3               0                0  \n",
       "4               0                0  \n",
       "\n",
       "[5 rows x 25 columns]"
      ]
     },
     "execution_count": 7,
     "metadata": {},
     "output_type": "execute_result"
    }
   ],
   "source": [
    "df.head()"
   ]
  },
  {
   "cell_type": "markdown",
   "metadata": {
    "id": "KXQNItgRT8Fu"
   },
   "source": [
    "The columns contain mostly boolean and categorical data (including age and various test results), with just the following exceptions: `time_in_hospital`, `num_lab_procedures`, `num_procedures`, `num_medications`, `number_diagnoses`.\n",
    "\n",
    "\n",
    "|features| description|\n",
    "|---|---|\n",
    "| race, gender, age | demographic features |\n",
    "| medicare, medicaid | insurance information |\n",
    "| admission_source_id | emergency, referral, or other |\n",
    "| had_emergency, had_inpatient_days,<br>had_outpatient_days | hospital visits in prior year |\n",
    "| medical_specialty | admitting physician's specialty |\n",
    "| time_in_hospital, num_lab_procedures,<br>num_procedures, num_medications,<br>primary_diagnosis, number_diagnoses,<br>max_glu_serum, A1Cresult, insulin<br>change, diabetesMed | description of the hospital visit<br> |\n",
    "| discharge_disposition_id | discharched to home or not |\n",
    "| readmitted, readmit_binary,<br>readmit_30_days | readmission information |\n",
    "\n",
    "\n"
   ]
  },
  {
   "cell_type": "code",
   "execution_count": 8,
   "metadata": {
    "colab": {
     "base_uri": "https://localhost:8080/",
     "height": 738
    },
    "id": "gPtaDcfHT8Fv",
    "outputId": "42347f1f-d3c8-4221-f98d-fdeaa25ef4fd"
   },
   "outputs": [
    {
     "data": {
      "text/html": [
       "<div>\n",
       "<style scoped>\n",
       "    .dataframe tbody tr th:only-of-type {\n",
       "        vertical-align: middle;\n",
       "    }\n",
       "\n",
       "    .dataframe tbody tr th {\n",
       "        vertical-align: top;\n",
       "    }\n",
       "\n",
       "    .dataframe thead th {\n",
       "        text-align: right;\n",
       "    }\n",
       "</style>\n",
       "<table border=\"1\" class=\"dataframe\">\n",
       "  <thead>\n",
       "    <tr style=\"text-align: right;\">\n",
       "      <th></th>\n",
       "      <th>0</th>\n",
       "      <th>1</th>\n",
       "      <th>2</th>\n",
       "      <th>3</th>\n",
       "      <th>4</th>\n",
       "      <th>5</th>\n",
       "    </tr>\n",
       "  </thead>\n",
       "  <tbody>\n",
       "    <tr>\n",
       "      <th>race</th>\n",
       "      <td>Caucasian</td>\n",
       "      <td>AfricanAmerican</td>\n",
       "      <td>Unknown</td>\n",
       "      <td>Hispanic</td>\n",
       "      <td>Other</td>\n",
       "      <td>Asian</td>\n",
       "    </tr>\n",
       "    <tr>\n",
       "      <th>gender</th>\n",
       "      <td>Female</td>\n",
       "      <td>Male</td>\n",
       "      <td>Unknown/Invalid</td>\n",
       "      <td></td>\n",
       "      <td></td>\n",
       "      <td></td>\n",
       "    </tr>\n",
       "    <tr>\n",
       "      <th>age</th>\n",
       "      <td>Over 60 years</td>\n",
       "      <td>30-60 years</td>\n",
       "      <td>30 years or younger</td>\n",
       "      <td></td>\n",
       "      <td></td>\n",
       "      <td></td>\n",
       "    </tr>\n",
       "    <tr>\n",
       "      <th>discharge_disposition_id</th>\n",
       "      <td>Discharged to Home</td>\n",
       "      <td>Other</td>\n",
       "      <td></td>\n",
       "      <td></td>\n",
       "      <td></td>\n",
       "      <td></td>\n",
       "    </tr>\n",
       "    <tr>\n",
       "      <th>admission_source_id</th>\n",
       "      <td>Emergency</td>\n",
       "      <td>Referral</td>\n",
       "      <td>Other</td>\n",
       "      <td></td>\n",
       "      <td></td>\n",
       "      <td></td>\n",
       "    </tr>\n",
       "    <tr>\n",
       "      <th>medical_specialty</th>\n",
       "      <td>Missing</td>\n",
       "      <td>Other</td>\n",
       "      <td>InternalMedicine</td>\n",
       "      <td>Emergency/Trauma</td>\n",
       "      <td>Family/GeneralPractice</td>\n",
       "      <td>Cardiology</td>\n",
       "    </tr>\n",
       "    <tr>\n",
       "      <th>primary_diagnosis</th>\n",
       "      <td>Other</td>\n",
       "      <td>Respiratory Issues</td>\n",
       "      <td>Diabetes</td>\n",
       "      <td>Genitourinary Issues</td>\n",
       "      <td>Musculoskeletal Issues</td>\n",
       "      <td></td>\n",
       "    </tr>\n",
       "    <tr>\n",
       "      <th>max_glu_serum</th>\n",
       "      <td>None</td>\n",
       "      <td>Norm</td>\n",
       "      <td>&gt;200</td>\n",
       "      <td>&gt;300</td>\n",
       "      <td></td>\n",
       "      <td></td>\n",
       "    </tr>\n",
       "    <tr>\n",
       "      <th>A1Cresult</th>\n",
       "      <td>None</td>\n",
       "      <td>&gt;8</td>\n",
       "      <td>Norm</td>\n",
       "      <td>&gt;7</td>\n",
       "      <td></td>\n",
       "      <td></td>\n",
       "    </tr>\n",
       "    <tr>\n",
       "      <th>insulin</th>\n",
       "      <td>No</td>\n",
       "      <td>Steady</td>\n",
       "      <td>Down</td>\n",
       "      <td>Up</td>\n",
       "      <td></td>\n",
       "      <td></td>\n",
       "    </tr>\n",
       "    <tr>\n",
       "      <th>change</th>\n",
       "      <td>No</td>\n",
       "      <td>Ch</td>\n",
       "      <td></td>\n",
       "      <td></td>\n",
       "      <td></td>\n",
       "      <td></td>\n",
       "    </tr>\n",
       "    <tr>\n",
       "      <th>diabetesMed</th>\n",
       "      <td>Yes</td>\n",
       "      <td>No</td>\n",
       "      <td></td>\n",
       "      <td></td>\n",
       "      <td></td>\n",
       "      <td></td>\n",
       "    </tr>\n",
       "    <tr>\n",
       "      <th>medicare</th>\n",
       "      <td>False</td>\n",
       "      <td>True</td>\n",
       "      <td></td>\n",
       "      <td></td>\n",
       "      <td></td>\n",
       "      <td></td>\n",
       "    </tr>\n",
       "    <tr>\n",
       "      <th>medicaid</th>\n",
       "      <td>False</td>\n",
       "      <td>True</td>\n",
       "      <td></td>\n",
       "      <td></td>\n",
       "      <td></td>\n",
       "      <td></td>\n",
       "    </tr>\n",
       "    <tr>\n",
       "      <th>had_emergency</th>\n",
       "      <td>False</td>\n",
       "      <td>True</td>\n",
       "      <td></td>\n",
       "      <td></td>\n",
       "      <td></td>\n",
       "      <td></td>\n",
       "    </tr>\n",
       "    <tr>\n",
       "      <th>had_inpatient_days</th>\n",
       "      <td>False</td>\n",
       "      <td>True</td>\n",
       "      <td></td>\n",
       "      <td></td>\n",
       "      <td></td>\n",
       "      <td></td>\n",
       "    </tr>\n",
       "    <tr>\n",
       "      <th>had_outpatient_days</th>\n",
       "      <td>False</td>\n",
       "      <td>True</td>\n",
       "      <td></td>\n",
       "      <td></td>\n",
       "      <td></td>\n",
       "      <td></td>\n",
       "    </tr>\n",
       "    <tr>\n",
       "      <th>readmitted</th>\n",
       "      <td>NO</td>\n",
       "      <td>&gt;30</td>\n",
       "      <td>&lt;30</td>\n",
       "      <td></td>\n",
       "      <td></td>\n",
       "      <td></td>\n",
       "    </tr>\n",
       "    <tr>\n",
       "      <th>readmit_binary</th>\n",
       "      <td>0.000</td>\n",
       "      <td>1.000</td>\n",
       "      <td></td>\n",
       "      <td></td>\n",
       "      <td></td>\n",
       "      <td></td>\n",
       "    </tr>\n",
       "    <tr>\n",
       "      <th>readmit_30_days</th>\n",
       "      <td>0.000</td>\n",
       "      <td>1.000</td>\n",
       "      <td></td>\n",
       "      <td></td>\n",
       "      <td></td>\n",
       "      <td></td>\n",
       "    </tr>\n",
       "  </tbody>\n",
       "</table>\n",
       "</div>"
      ],
      "text/plain": [
       "                                           0                   1  \\\n",
       "race                               Caucasian     AfricanAmerican   \n",
       "gender                                Female                Male   \n",
       "age                            Over 60 years         30-60 years   \n",
       "discharge_disposition_id  Discharged to Home               Other   \n",
       "admission_source_id                Emergency            Referral   \n",
       "medical_specialty                    Missing               Other   \n",
       "primary_diagnosis                      Other  Respiratory Issues   \n",
       "max_glu_serum                           None                Norm   \n",
       "A1Cresult                               None                  >8   \n",
       "insulin                                   No              Steady   \n",
       "change                                    No                  Ch   \n",
       "diabetesMed                              Yes                  No   \n",
       "medicare                               False                True   \n",
       "medicaid                               False                True   \n",
       "had_emergency                          False                True   \n",
       "had_inpatient_days                     False                True   \n",
       "had_outpatient_days                    False                True   \n",
       "readmitted                                NO                 >30   \n",
       "readmit_binary                         0.000               1.000   \n",
       "readmit_30_days                        0.000               1.000   \n",
       "\n",
       "                                            2                     3  \\\n",
       "race                                  Unknown              Hispanic   \n",
       "gender                        Unknown/Invalid                         \n",
       "age                       30 years or younger                         \n",
       "discharge_disposition_id                                              \n",
       "admission_source_id                     Other                         \n",
       "medical_specialty            InternalMedicine      Emergency/Trauma   \n",
       "primary_diagnosis                    Diabetes  Genitourinary Issues   \n",
       "max_glu_serum                            >200                  >300   \n",
       "A1Cresult                                Norm                    >7   \n",
       "insulin                                  Down                    Up   \n",
       "change                                                                \n",
       "diabetesMed                                                           \n",
       "medicare                                                              \n",
       "medicaid                                                              \n",
       "had_emergency                                                         \n",
       "had_inpatient_days                                                    \n",
       "had_outpatient_days                                                   \n",
       "readmitted                                <30                         \n",
       "readmit_binary                                                        \n",
       "readmit_30_days                                                       \n",
       "\n",
       "                                               4           5  \n",
       "race                                       Other       Asian  \n",
       "gender                                                        \n",
       "age                                                           \n",
       "discharge_disposition_id                                      \n",
       "admission_source_id                                           \n",
       "medical_specialty         Family/GeneralPractice  Cardiology  \n",
       "primary_diagnosis         Musculoskeletal Issues              \n",
       "max_glu_serum                                                 \n",
       "A1Cresult                                                     \n",
       "insulin                                                       \n",
       "change                                                        \n",
       "diabetesMed                                                   \n",
       "medicare                                                      \n",
       "medicaid                                                      \n",
       "had_emergency                                                 \n",
       "had_inpatient_days                                            \n",
       "had_outpatient_days                                           \n",
       "readmitted                                                    \n",
       "readmit_binary                                                \n",
       "readmit_30_days                                               "
      ]
     },
     "execution_count": 8,
     "metadata": {},
     "output_type": "execute_result"
    }
   ],
   "source": [
    "# Show the values of all binary and categorical features\n",
    "categorical_values = {}\n",
    "for col in df:\n",
    "  if col not in {'time_in_hospital', 'num_lab_procedures',\n",
    "                 'num_procedures', 'num_medications', 'number_diagnoses'}:\n",
    "    categorical_values[col] = pd.Series(df[col].value_counts().index.values)\n",
    "categorical_values_df = pd.DataFrame(categorical_values).fillna('')\n",
    "categorical_values_df.T"
   ]
  },
  {
   "cell_type": "markdown",
   "metadata": {
    "id": "8loEiuFSWb8A"
   },
   "source": [
    "We mark all categorical features: "
   ]
  },
  {
   "cell_type": "code",
   "execution_count": 9,
   "metadata": {
    "id": "P4y1FRMdWduE"
   },
   "outputs": [],
   "source": [
    "categorical_features = [\n",
    "    \"race\",\n",
    "    \"gender\",\n",
    "    \"age\",\n",
    "    \"discharge_disposition_id\",\n",
    "    \"admission_source_id\",\n",
    "    \"medical_specialty\",\n",
    "    \"primary_diagnosis\",\n",
    "    \"max_glu_serum\",\n",
    "    \"A1Cresult\",\n",
    "    \"insulin\",\n",
    "    \"change\",\n",
    "    \"diabetesMed\",\n",
    "    \"readmitted\"\n",
    "]"
   ]
  },
  {
   "cell_type": "code",
   "execution_count": 10,
   "metadata": {
    "id": "Qyo3GQ4RWduG"
   },
   "outputs": [],
   "source": [
    "for col_name in categorical_features:\n",
    "  df[col_name] = df[col_name].astype(\"category\")"
   ]
  },
  {
   "cell_type": "markdown",
   "metadata": {
    "id": "6LTax67Em4q8"
   },
   "source": [
    "## Group sample sizes "
   ]
  },
  {
   "cell_type": "markdown",
   "metadata": {
    "id": "ft28kXKHm4q9"
   },
   "source": [
    "Some of our groups have very few samples which makes it harder to assess fairness as we can't make our assessment with the same certainty. More uncertainty means potentially larger error bars in our estimates. Additionally, we're not capturing people from the smaller groups as well as we might be modeling people from larger groups.\n",
    "\n",
    "Let's examine the sample sizes of the groups according to `race`:\n",
    "\n"
   ]
  },
  {
   "cell_type": "code",
   "execution_count": 11,
   "metadata": {
    "colab": {
     "base_uri": "https://localhost:8080/"
    },
    "id": "wEGJjCrOm4q9",
    "outputId": "a7430662-00d7-405b-b9af-1dcaf8fc5c28"
   },
   "outputs": [
    {
     "data": {
      "text/plain": [
       "Caucasian          76099\n",
       "AfricanAmerican    19210\n",
       "Unknown             2273\n",
       "Hispanic            2037\n",
       "Other               1506\n",
       "Asian                641\n",
       "Name: race, dtype: int64"
      ]
     },
     "execution_count": 11,
     "metadata": {},
     "output_type": "execute_result"
    }
   ],
   "source": [
    "df[\"race\"].value_counts()"
   ]
  },
  {
   "cell_type": "code",
   "execution_count": 12,
   "metadata": {
    "colab": {
     "base_uri": "https://localhost:8080/",
     "height": 330
    },
    "id": "HznSDLWEm4q-",
    "outputId": "009b8aea-9ae4-4810-eb13-67ac8efae163"
   },
   "outputs": [
    {
     "data": {
      "image/png": "[encoded data removed]",
      "text/plain": [
       "<Figure size 432x288 with 1 Axes>"
      ]
     },
     "metadata": {},
     "output_type": "display_data"
    }
   ],
   "source": [
    "df[\"race\"].value_counts().plot(kind='bar', rot=45);"
   ]
  },
  {
   "cell_type": "markdown",
   "metadata": {
    "id": "ZkI6KA3rm4q-"
   },
   "source": [
    "Normalized as frequencies:"
   ]
  },
  {
   "cell_type": "code",
   "execution_count": 13,
   "metadata": {
    "colab": {
     "base_uri": "https://localhost:8080/"
    },
    "id": "qE2UoDU3m4q-",
    "outputId": "c23f07b1-493d-4df2-db5a-06bc921eefde"
   },
   "outputs": [
    {
     "data": {
      "text/plain": [
       "Caucasian         0.748\n",
       "AfricanAmerican   0.189\n",
       "Unknown           0.022\n",
       "Hispanic          0.020\n",
       "Other             0.015\n",
       "Asian             0.006\n",
       "Name: race, dtype: float64"
      ]
     },
     "execution_count": 13,
     "metadata": {},
     "output_type": "execute_result"
    }
   ],
   "source": [
    "df[\"race\"].value_counts(normalize=True)"
   ]
  },
  {
   "cell_type": "markdown",
   "metadata": {
    "id": "DEUrg6J3m4q_"
   },
   "source": [
    "In our dataset, our patients are predominantly *Caucasian* (75%). The next largest racial group is *AfricanAmerican*, making up 19% of the patients. The remaining race categories (including *Unknown*) compose only 6% of the data."
   ]
  },
  {
   "cell_type": "markdown",
   "metadata": {
    "id": "NyLBXpKWm4rA"
   },
   "source": [
    "### Decision point: How do we address smaller group sizes?"
   ]
  },
  {
   "cell_type": "markdown",
   "metadata": {
    "id": "wT-BPQ2Gm4rB"
   },
   "source": [
    "here are three possible interventions:\n",
    "\n",
    "* **collect more data**: collect more data for groups with fewer samples\n",
    "* **buckets**: merge some of the groups\n",
    "* **drop small groups**\n",
    "\n",
    "This task generally requires a lot of caution (omitted in this version), but for brevity the tutorial authors chose to  merge the three smallest race groups *Asian*, *Hispanic*, *Other* (similar to [Strack et al., 2014](https://www.hindawi.com/journals/bmri/2014/781670/)), but also retain the original groups for auxiliary assessments, and drop the gender group *Unknown/Invalid*."
   ]
  },
  {
   "cell_type": "code",
   "execution_count": 16,
   "metadata": {
    "id": "iBN_fIhpm4rB"
   },
   "outputs": [],
   "source": [
    "# drop gender group Unknown/Invalid\n",
    "df = df.query(\"gender != 'Unknown/Invalid'\")\n",
    "\n",
    "# retain the original race as race_all, and merge Asian+Hispanic+Other \n",
    "df[\"race_all\"] = df[\"race\"]\n",
    "df[\"race\"] = df[\"race\"].replace({\"Asian\": \"Other\", \"Hispanic\": \"Other\"})"
   ]
  },
  {
   "cell_type": "markdown",
   "metadata": {
    "id": "3i9KdmTWKUJZ"
   },
   "source": [
    "## Label imbalance\n",
    "\n"
   ]
  },
  {
   "cell_type": "markdown",
   "metadata": {
    "id": "cos3--59EiZt"
   },
   "source": [
    "Let's check how many samples in our data are labeled as positive and how many as negative."
   ]
  },
  {
   "cell_type": "code",
   "execution_count": 17,
   "metadata": {
    "colab": {
     "base_uri": "https://localhost:8080/"
    },
    "id": "eR5ULLYGE4UK",
    "outputId": "02f2e533-2a7f-44af-e57f-c24c7b8b4d4d"
   },
   "outputs": [
    {
     "data": {
      "text/plain": [
       "0    90406\n",
       "1    11357\n",
       "Name: readmit_30_days, dtype: int64"
      ]
     },
     "execution_count": 17,
     "metadata": {},
     "output_type": "execute_result"
    }
   ],
   "source": [
    "df[\"readmit_30_days\"].value_counts() # counts"
   ]
  },
  {
   "cell_type": "code",
   "execution_count": 18,
   "metadata": {
    "colab": {
     "base_uri": "https://localhost:8080/"
    },
    "id": "0UWBbg4Cz90t",
    "outputId": "a0e1e14b-47f9-4f49-da41-ba53a7a63082"
   },
   "outputs": [
    {
     "data": {
      "text/plain": [
       "0   0.888\n",
       "1   0.112\n",
       "Name: readmit_30_days, dtype: float64"
      ]
     },
     "execution_count": 18,
     "metadata": {},
     "output_type": "execute_result"
    }
   ],
   "source": [
    "df[\"readmit_30_days\"].value_counts(normalize=True) # frequencies"
   ]
  },
  {
   "cell_type": "markdown",
   "metadata": {
    "id": "b-_K_KHXz9MR"
   },
   "source": [
    "As we can see, the target label is heavily skewed towards the patients not being readmitted within 30 days. In our dataset, only 11% of patients were readmitted within 30 days. This can severely affect classifiers trained on this data, and thereby affect the people to whom we administer additional health care.\n",
    "\n",
    "Our target metric is *balanced error rate*, which is the average of FPR and FNR. The value of this metric is robust to different frequencies of positives and negatives."
   ]
  },
  {
   "cell_type": "markdown",
   "metadata": {
    "id": "OkopoyE3GQ8g"
   },
   "source": [
    "Now, let's examine how much the label frequencies vary within each group defined by `race`:"
   ]
  },
  {
   "cell_type": "code",
   "execution_count": 19,
   "metadata": {
    "colab": {
     "base_uri": "https://localhost:8080/",
     "height": 285
    },
    "id": "tcH3Mxwmm4rC",
    "outputId": "75641d75-670d-4a81-a354-855f80c38613"
   },
   "outputs": [
    {
     "data": {
      "image/png": "[encoded data removed]",
      "text/plain": [
       "<Figure size 432x288 with 1 Axes>"
      ]
     },
     "metadata": {},
     "output_type": "display_data"
    }
   ],
   "source": [
    "sns.barplot(x=\"readmit_30_days\", y=\"race\", data=df, ci=95);"
   ]
  },
  {
   "cell_type": "markdown",
   "metadata": {
    "id": "ox06aTMmm4rB"
   },
   "source": [
    "We see the rate of *30-day readmission* is similar for the *AfricanAmerican* and *Caucasian* groups, but appears smaller for *Other* and smallest for *Unknown* (this is consistent with an overall lower rate of hospital visits in the prior year). The smaller sample size of the *Other* and *Unknown* groups mean that there is more uncertainty around the estimate for these two groups."
   ]
  },
  {
   "cell_type": "markdown",
   "metadata": {
    "id": "HB7zfhA1UKiW"
   },
   "source": [
    "# Training the initial model"
   ]
  },
  {
   "cell_type": "markdown",
   "metadata": {
    "id": "0f7jZOzGX24Z"
   },
   "source": [
    "We next train a classification model to predict our target variable (readmission within 30 days) while optimizing balanced accuracy.\n",
    "\n"
   ]
  },
  {
   "cell_type": "markdown",
   "metadata": {
    "id": "52wWLOFoXkho"
   },
   "source": [
    "## Prepare training and test datasets"
   ]
  },
  {
   "cell_type": "markdown",
   "metadata": {
    "id": "vCwtDyx8yqSG"
   },
   "source": [
    "As we mentioned in the task definition, our target variable is **readmission within 30 days**, and our sensitive feature for the purposes of fairness assessment is **race**.\n"
   ]
  },
  {
   "cell_type": "code",
   "execution_count": 20,
   "metadata": {
    "id": "WpiSRj2JyqSH"
   },
   "outputs": [],
   "source": [
    "target_variable = \"readmit_30_days\"\n",
    "demographic = [\"race\", \"gender\"]\n",
    "sensitive = [\"race\"]\n",
    "# If multiple sensitive features are chosen, the rest of the script considers intersectional groups."
   ]
  },
  {
   "cell_type": "code",
   "execution_count": 21,
   "metadata": {
    "id": "uaNqDyqvi1QE"
   },
   "outputs": [],
   "source": [
    "Y, A = df.loc[:, target_variable], df.loc[:, sensitive]"
   ]
  },
  {
   "cell_type": "markdown",
   "metadata": {
    "id": "niu49A9YXQmf"
   },
   "source": [
    "We next drop the features that we don't want to use in our model and expand the categorical features into 0/1 indicators (\"dummies\")."
   ]
  },
  {
   "cell_type": "code",
   "execution_count": 22,
   "metadata": {
    "id": "JXyRuCsri1cY"
   },
   "outputs": [],
   "source": [
    "X = pd.get_dummies(df.drop(columns=[\n",
    "    \"race\",\n",
    "    \"race_all\",\n",
    "    \"discharge_disposition_id\",\n",
    "    \"readmitted\",\n",
    "    \"readmit_binary\",\n",
    "    \"readmit_30_days\"\n",
    "]))"
   ]
  },
  {
   "cell_type": "code",
   "execution_count": 23,
   "metadata": {
    "colab": {
     "base_uri": "https://localhost:8080/",
     "height": 274
    },
    "id": "kAA0sIhQUWFa",
    "outputId": "73d62224-bf2e-40d2-a29a-8909e26d3cf9"
   },
   "outputs": [
    {
     "data": {
      "text/html": [
       "<div>\n",
       "<style scoped>\n",
       "    .dataframe tbody tr th:only-of-type {\n",
       "        vertical-align: middle;\n",
       "    }\n",
       "\n",
       "    .dataframe tbody tr th {\n",
       "        vertical-align: top;\n",
       "    }\n",
       "\n",
       "    .dataframe thead th {\n",
       "        text-align: right;\n",
       "    }\n",
       "</style>\n",
       "<table border=\"1\" class=\"dataframe\">\n",
       "  <thead>\n",
       "    <tr style=\"text-align: right;\">\n",
       "      <th></th>\n",
       "      <th>time_in_hospital</th>\n",
       "      <th>num_lab_procedures</th>\n",
       "      <th>num_procedures</th>\n",
       "      <th>num_medications</th>\n",
       "      <th>number_diagnoses</th>\n",
       "      <th>medicare</th>\n",
       "      <th>medicaid</th>\n",
       "      <th>had_emergency</th>\n",
       "      <th>had_inpatient_days</th>\n",
       "      <th>had_outpatient_days</th>\n",
       "      <th>...</th>\n",
       "      <th>A1Cresult_None</th>\n",
       "      <th>A1Cresult_Norm</th>\n",
       "      <th>insulin_Down</th>\n",
       "      <th>insulin_No</th>\n",
       "      <th>insulin_Steady</th>\n",
       "      <th>insulin_Up</th>\n",
       "      <th>change_Ch</th>\n",
       "      <th>change_No</th>\n",
       "      <th>diabetesMed_No</th>\n",
       "      <th>diabetesMed_Yes</th>\n",
       "    </tr>\n",
       "  </thead>\n",
       "  <tbody>\n",
       "    <tr>\n",
       "      <th>0</th>\n",
       "      <td>1</td>\n",
       "      <td>41</td>\n",
       "      <td>0</td>\n",
       "      <td>1</td>\n",
       "      <td>1</td>\n",
       "      <td>False</td>\n",
       "      <td>False</td>\n",
       "      <td>False</td>\n",
       "      <td>False</td>\n",
       "      <td>False</td>\n",
       "      <td>...</td>\n",
       "      <td>1</td>\n",
       "      <td>0</td>\n",
       "      <td>0</td>\n",
       "      <td>1</td>\n",
       "      <td>0</td>\n",
       "      <td>0</td>\n",
       "      <td>0</td>\n",
       "      <td>1</td>\n",
       "      <td>1</td>\n",
       "      <td>0</td>\n",
       "    </tr>\n",
       "    <tr>\n",
       "      <th>1</th>\n",
       "      <td>3</td>\n",
       "      <td>59</td>\n",
       "      <td>0</td>\n",
       "      <td>18</td>\n",
       "      <td>9</td>\n",
       "      <td>False</td>\n",
       "      <td>False</td>\n",
       "      <td>False</td>\n",
       "      <td>False</td>\n",
       "      <td>False</td>\n",
       "      <td>...</td>\n",
       "      <td>1</td>\n",
       "      <td>0</td>\n",
       "      <td>0</td>\n",
       "      <td>0</td>\n",
       "      <td>0</td>\n",
       "      <td>1</td>\n",
       "      <td>1</td>\n",
       "      <td>0</td>\n",
       "      <td>0</td>\n",
       "      <td>1</td>\n",
       "    </tr>\n",
       "    <tr>\n",
       "      <th>2</th>\n",
       "      <td>2</td>\n",
       "      <td>11</td>\n",
       "      <td>5</td>\n",
       "      <td>13</td>\n",
       "      <td>6</td>\n",
       "      <td>False</td>\n",
       "      <td>False</td>\n",
       "      <td>False</td>\n",
       "      <td>True</td>\n",
       "      <td>True</td>\n",
       "      <td>...</td>\n",
       "      <td>1</td>\n",
       "      <td>0</td>\n",
       "      <td>0</td>\n",
       "      <td>1</td>\n",
       "      <td>0</td>\n",
       "      <td>0</td>\n",
       "      <td>0</td>\n",
       "      <td>1</td>\n",
       "      <td>0</td>\n",
       "      <td>1</td>\n",
       "    </tr>\n",
       "    <tr>\n",
       "      <th>3</th>\n",
       "      <td>2</td>\n",
       "      <td>44</td>\n",
       "      <td>1</td>\n",
       "      <td>16</td>\n",
       "      <td>7</td>\n",
       "      <td>False</td>\n",
       "      <td>False</td>\n",
       "      <td>False</td>\n",
       "      <td>False</td>\n",
       "      <td>False</td>\n",
       "      <td>...</td>\n",
       "      <td>1</td>\n",
       "      <td>0</td>\n",
       "      <td>0</td>\n",
       "      <td>0</td>\n",
       "      <td>0</td>\n",
       "      <td>1</td>\n",
       "      <td>1</td>\n",
       "      <td>0</td>\n",
       "      <td>0</td>\n",
       "      <td>1</td>\n",
       "    </tr>\n",
       "    <tr>\n",
       "      <th>4</th>\n",
       "      <td>1</td>\n",
       "      <td>51</td>\n",
       "      <td>0</td>\n",
       "      <td>8</td>\n",
       "      <td>5</td>\n",
       "      <td>False</td>\n",
       "      <td>False</td>\n",
       "      <td>False</td>\n",
       "      <td>False</td>\n",
       "      <td>False</td>\n",
       "      <td>...</td>\n",
       "      <td>1</td>\n",
       "      <td>0</td>\n",
       "      <td>0</td>\n",
       "      <td>0</td>\n",
       "      <td>1</td>\n",
       "      <td>0</td>\n",
       "      <td>1</td>\n",
       "      <td>0</td>\n",
       "      <td>0</td>\n",
       "      <td>1</td>\n",
       "    </tr>\n",
       "  </tbody>\n",
       "</table>\n",
       "<p>5 rows × 46 columns</p>\n",
       "</div>"
      ],
      "text/plain": [
       "   time_in_hospital  num_lab_procedures  num_procedures  num_medications  \\\n",
       "0                 1                  41               0                1   \n",
       "1                 3                  59               0               18   \n",
       "2                 2                  11               5               13   \n",
       "3                 2                  44               1               16   \n",
       "4                 1                  51               0                8   \n",
       "\n",
       "   number_diagnoses  medicare  medicaid  had_emergency  had_inpatient_days  \\\n",
       "0                 1     False     False          False               False   \n",
       "1                 9     False     False          False               False   \n",
       "2                 6     False     False          False                True   \n",
       "3                 7     False     False          False               False   \n",
       "4                 5     False     False          False               False   \n",
       "\n",
       "   had_outpatient_days  ...  A1Cresult_None  A1Cresult_Norm  insulin_Down  \\\n",
       "0                False  ...               1               0             0   \n",
       "1                False  ...               1               0             0   \n",
       "2                 True  ...               1               0             0   \n",
       "3                False  ...               1               0             0   \n",
       "4                False  ...               1               0             0   \n",
       "\n",
       "   insulin_No  insulin_Steady  insulin_Up  change_Ch  change_No  \\\n",
       "0           1               0           0          0          1   \n",
       "1           0               0           1          1          0   \n",
       "2           1               0           0          0          1   \n",
       "3           0               0           1          1          0   \n",
       "4           0               1           0          1          0   \n",
       "\n",
       "   diabetesMed_No  diabetesMed_Yes  \n",
       "0               1                0  \n",
       "1               0                1  \n",
       "2               0                1  \n",
       "3               0                1  \n",
       "4               0                1  \n",
       "\n",
       "[5 rows x 46 columns]"
      ]
     },
     "execution_count": 23,
     "metadata": {},
     "output_type": "execute_result"
    }
   ],
   "source": [
    "X.head() # sanity check"
   ]
  },
  {
   "cell_type": "markdown",
   "metadata": {
    "id": "ATzi8cKCD7V3"
   },
   "source": [
    "We split our data into a training and test portion. The test portion will be used to evaluate our performance metric (i.e., balanced accuracy), but also for fairness assessment. The split is half/half for training and test to ensure that we have sufficient sample sizes for fairness assessment."
   ]
  },
  {
   "cell_type": "code",
   "execution_count": 24,
   "metadata": {
    "id": "-wpnURazmJ4-"
   },
   "outputs": [],
   "source": [
    "random_seed = 445\n",
    "np.random.seed(random_seed)"
   ]
  },
  {
   "cell_type": "code",
   "execution_count": 25,
   "metadata": {
    "id": "xgl_b-CUl7TW"
   },
   "outputs": [],
   "source": [
    "X_train, X_test, Y_train, Y_test, A_train, A_test, df_train, df_test = train_test_split(\n",
    "    X,\n",
    "    Y,\n",
    "    A,\n",
    "    df,\n",
    "    test_size=0.50,\n",
    "    stratify=Y,\n",
    "    random_state=random_seed\n",
    ")"
   ]
  },
  {
   "cell_type": "markdown",
   "metadata": {
    "id": "eSMbXR9iVqr8"
   },
   "source": [
    "Our performance metric is **balanced accuracy**, so for the purposes of training (but not evaluation!) we will resample the data set, so that it has the same number of positive and negative examples. This means that we can use estimators that optimize standard accuracy (although some estimators allow the use us importance weights).\n"
   ]
  },
  {
   "cell_type": "markdown",
   "metadata": {
    "id": "nPNQpb2ZN1ku"
   },
   "source": [
    "Because we are downsampling the number of negative examples, we create a training dataset with a significantly lower number of data points. For more complex machine learning models, this lower number of training data points may affect the model's accuracy."
   ]
  },
  {
   "cell_type": "code",
   "execution_count": 26,
   "metadata": {
    "id": "L1aVgzyFNa4B"
   },
   "outputs": [],
   "source": [
    "def resample_dataset(X_train, Y_train, A_train):\n",
    "\n",
    "  negative_ids = Y_train[Y_train == 0].index\n",
    "  positive_ids = Y_train[Y_train == 1].index\n",
    "  balanced_ids = positive_ids.union(np.random.choice(a=negative_ids, size=len(positive_ids)))\n",
    "\n",
    "  X_train = X_train.loc[balanced_ids, :]\n",
    "  Y_train = Y_train.loc[balanced_ids]\n",
    "  A_train = A_train.loc[balanced_ids, :]\n",
    "  return X_train, Y_train, A_train"
   ]
  },
  {
   "cell_type": "code",
   "execution_count": 27,
   "metadata": {
    "id": "6Ogw-r3DQsds"
   },
   "outputs": [],
   "source": [
    "X_train_bal, Y_train_bal, A_train_bal = resample_dataset(X_train, Y_train, A_train)"
   ]
  },
  {
   "cell_type": "markdown",
   "metadata": {
    "id": "4V523GQbYobT"
   },
   "source": [
    "## Train the model"
   ]
  },
  {
   "cell_type": "markdown",
   "metadata": {
    "id": "g7jwN2cVbO0g"
   },
   "source": [
    "We train a logistic regression model and save its predictions on test data for analysis."
   ]
  },
  {
   "cell_type": "code",
   "execution_count": 28,
   "metadata": {
    "id": "f6nKDzt164vw"
   },
   "outputs": [],
   "source": [
    "unmitigated_pipeline = Pipeline(steps=[\n",
    "    (\"preprocessing\", StandardScaler()),\n",
    "    (\"logistic_regression\", LogisticRegression(max_iter=1000))\n",
    "])"
   ]
  },
  {
   "cell_type": "code",
   "execution_count": 29,
   "metadata": {
    "colab": {
     "base_uri": "https://localhost:8080/",
     "height": 111
    },
    "id": "ld9clGbHl7tv",
    "outputId": "89fa7f0d-680f-424f-a7cd-96686987a943"
   },
   "outputs": [
    {
     "data": {
      "text/html": [
       "<style>#sk-d4c6fee3-7bef-4eab-b18f-cff1cd162fe5 {color: black;background-color: white;}#sk-d4c6fee3-7bef-4eab-b18f-cff1cd162fe5 pre{padding: 0;}#sk-d4c6fee3-7bef-4eab-b18f-cff1cd162fe5 div.sk-toggleable {background-color: white;}#sk-d4c6fee3-7bef-4eab-b18f-cff1cd162fe5 label.sk-toggleable__label {cursor: pointer;display: block;width: 100%;margin-bottom: 0;padding: 0.3em;box-sizing: border-box;text-align: center;}#sk-d4c6fee3-7bef-4eab-b18f-cff1cd162fe5 label.sk-toggleable__label-arrow:before {content: \"▸\";float: left;margin-right: 0.25em;color: #696969;}#sk-d4c6fee3-7bef-4eab-b18f-cff1cd162fe5 label.sk-toggleable__label-arrow:hover:before {color: black;}#sk-d4c6fee3-7bef-4eab-b18f-cff1cd162fe5 div.sk-estimator:hover label.sk-toggleable__label-arrow:before {color: black;}#sk-d4c6fee3-7bef-4eab-b18f-cff1cd162fe5 div.sk-toggleable__content {max-height: 0;max-width: 0;overflow: hidden;text-align: left;background-color: #f0f8ff;}#sk-d4c6fee3-7bef-4eab-b18f-cff1cd162fe5 div.sk-toggleable__content pre {margin: 0.2em;color: black;border-radius: 0.25em;background-color: #f0f8ff;}#sk-d4c6fee3-7bef-4eab-b18f-cff1cd162fe5 input.sk-toggleable__control:checked~div.sk-toggleable__content {max-height: 200px;max-width: 100%;overflow: auto;}#sk-d4c6fee3-7bef-4eab-b18f-cff1cd162fe5 input.sk-toggleable__control:checked~label.sk-toggleable__label-arrow:before {content: \"▾\";}#sk-d4c6fee3-7bef-4eab-b18f-cff1cd162fe5 div.sk-estimator input.sk-toggleable__control:checked~label.sk-toggleable__label {background-color: #d4ebff;}#sk-d4c6fee3-7bef-4eab-b18f-cff1cd162fe5 div.sk-label input.sk-toggleable__control:checked~label.sk-toggleable__label {background-color: #d4ebff;}#sk-d4c6fee3-7bef-4eab-b18f-cff1cd162fe5 input.sk-hidden--visually {border: 0;clip: rect(1px 1px 1px 1px);clip: rect(1px, 1px, 1px, 1px);height: 1px;margin: -1px;overflow: hidden;padding: 0;position: absolute;width: 1px;}#sk-d4c6fee3-7bef-4eab-b18f-cff1cd162fe5 div.sk-estimator {font-family: monospace;background-color: #f0f8ff;border: 1px dotted black;border-radius: 0.25em;box-sizing: border-box;margin-bottom: 0.5em;}#sk-d4c6fee3-7bef-4eab-b18f-cff1cd162fe5 div.sk-estimator:hover {background-color: #d4ebff;}#sk-d4c6fee3-7bef-4eab-b18f-cff1cd162fe5 div.sk-parallel-item::after {content: \"\";width: 100%;border-bottom: 1px solid gray;flex-grow: 1;}#sk-d4c6fee3-7bef-4eab-b18f-cff1cd162fe5 div.sk-label:hover label.sk-toggleable__label {background-color: #d4ebff;}#sk-d4c6fee3-7bef-4eab-b18f-cff1cd162fe5 div.sk-serial::before {content: \"\";position: absolute;border-left: 1px solid gray;box-sizing: border-box;top: 2em;bottom: 0;left: 50%;}#sk-d4c6fee3-7bef-4eab-b18f-cff1cd162fe5 div.sk-serial {display: flex;flex-direction: column;align-items: center;background-color: white;padding-right: 0.2em;padding-left: 0.2em;}#sk-d4c6fee3-7bef-4eab-b18f-cff1cd162fe5 div.sk-item {z-index: 1;}#sk-d4c6fee3-7bef-4eab-b18f-cff1cd162fe5 div.sk-parallel {display: flex;align-items: stretch;justify-content: center;background-color: white;}#sk-d4c6fee3-7bef-4eab-b18f-cff1cd162fe5 div.sk-parallel::before {content: \"\";position: absolute;border-left: 1px solid gray;box-sizing: border-box;top: 2em;bottom: 0;left: 50%;}#sk-d4c6fee3-7bef-4eab-b18f-cff1cd162fe5 div.sk-parallel-item {display: flex;flex-direction: column;position: relative;background-color: white;}#sk-d4c6fee3-7bef-4eab-b18f-cff1cd162fe5 div.sk-parallel-item:first-child::after {align-self: flex-end;width: 50%;}#sk-d4c6fee3-7bef-4eab-b18f-cff1cd162fe5 div.sk-parallel-item:last-child::after {align-self: flex-start;width: 50%;}#sk-d4c6fee3-7bef-4eab-b18f-cff1cd162fe5 div.sk-parallel-item:only-child::after {width: 0;}#sk-d4c6fee3-7bef-4eab-b18f-cff1cd162fe5 div.sk-dashed-wrapped {border: 1px dashed gray;margin: 0 0.4em 0.5em 0.4em;box-sizing: border-box;padding-bottom: 0.4em;background-color: white;position: relative;}#sk-d4c6fee3-7bef-4eab-b18f-cff1cd162fe5 div.sk-label label {font-family: monospace;font-weight: bold;background-color: white;display: inline-block;line-height: 1.2em;}#sk-d4c6fee3-7bef-4eab-b18f-cff1cd162fe5 div.sk-label-container {position: relative;z-index: 2;text-align: center;}#sk-d4c6fee3-7bef-4eab-b18f-cff1cd162fe5 div.sk-container {/* jupyter's `normalize.less` sets `[hidden] { display: none; }` but bootstrap.min.css set `[hidden] { display: none !important; }` so we also need the `!important` here to be able to override the default hidden behavior on the sphinx rendered scikit-learn.org. See: https://github.com/scikit-learn/scikit-learn/issues/21755 */display: inline-block !important;position: relative;}#sk-d4c6fee3-7bef-4eab-b18f-cff1cd162fe5 div.sk-text-repr-fallback {display: none;}</style><div id=\"sk-d4c6fee3-7bef-4eab-b18f-cff1cd162fe5\" class=\"sk-top-container\"><div class=\"sk-text-repr-fallback\"><pre>Pipeline(steps=[(&#x27;preprocessing&#x27;, StandardScaler()),\n",
       "                (&#x27;logistic_regression&#x27;, LogisticRegression(max_iter=1000))])</pre><b>Please rerun this cell to show the HTML repr or trust the notebook.</b></div><div class=\"sk-container\" hidden><div class=\"sk-item sk-dashed-wrapped\"><div class=\"sk-label-container\"><div class=\"sk-label sk-toggleable\"><input class=\"sk-toggleable__control sk-hidden--visually\" id=\"4f016494-7795-4e47-a4d6-789489a7e829\" type=\"checkbox\" ><label for=\"4f016494-7795-4e47-a4d6-789489a7e829\" class=\"sk-toggleable__label sk-toggleable__label-arrow\">Pipeline</label><div class=\"sk-toggleable__content\"><pre>Pipeline(steps=[(&#x27;preprocessing&#x27;, StandardScaler()),\n",
       "                (&#x27;logistic_regression&#x27;, LogisticRegression(max_iter=1000))])</pre></div></div></div><div class=\"sk-serial\"><div class=\"sk-item\"><div class=\"sk-estimator sk-toggleable\"><input class=\"sk-toggleable__control sk-hidden--visually\" id=\"7e81c88c-7114-4ce6-abab-89930a09d103\" type=\"checkbox\" ><label for=\"7e81c88c-7114-4ce6-abab-89930a09d103\" class=\"sk-toggleable__label sk-toggleable__label-arrow\">StandardScaler</label><div class=\"sk-toggleable__content\"><pre>StandardScaler()</pre></div></div></div><div class=\"sk-item\"><div class=\"sk-estimator sk-toggleable\"><input class=\"sk-toggleable__control sk-hidden--visually\" id=\"b78aaa6b-02f7-4093-b66f-dac1f9b941bd\" type=\"checkbox\" ><label for=\"b78aaa6b-02f7-4093-b66f-dac1f9b941bd\" class=\"sk-toggleable__label sk-toggleable__label-arrow\">LogisticRegression</label><div class=\"sk-toggleable__content\"><pre>LogisticRegression(max_iter=1000)</pre></div></div></div></div></div></div></div>"
      ],
      "text/plain": [
       "Pipeline(steps=[('preprocessing', StandardScaler()),\n",
       "                ('logistic_regression', LogisticRegression(max_iter=1000))])"
      ]
     },
     "execution_count": 29,
     "metadata": {},
     "output_type": "execute_result"
    }
   ],
   "source": [
    "unmitigated_pipeline.fit(X_train_bal, Y_train_bal)"
   ]
  },
  {
   "cell_type": "code",
   "execution_count": 30,
   "metadata": {
    "id": "Ok-eREU0xbAD"
   },
   "outputs": [],
   "source": [
    "Y_pred_proba = unmitigated_pipeline.predict_proba(X_test)[:,1]\n",
    "Y_pred = unmitigated_pipeline.predict(X_test)"
   ]
  },
  {
   "cell_type": "markdown",
   "metadata": {
    "id": "nkA0K8KV0HeD"
   },
   "source": [
    "Check model performance on test data."
   ]
  },
  {
   "cell_type": "code",
   "execution_count": 31,
   "metadata": {
    "colab": {
     "base_uri": "https://localhost:8080/",
     "height": 285
    },
    "id": "nz7QJOLx0RVH",
    "outputId": "ef446998-8269-4e9b-c8ba-43a777b947d8"
   },
   "outputs": [
    {
     "data": {
      "image/png": "[encoded data removed]",
      "text/plain": [
       "<Figure size 432x288 with 1 Axes>"
      ]
     },
     "metadata": {},
     "output_type": "display_data"
    }
   ],
   "source": [
    "# Plot ROC curve of probabilistic predictions\n",
    "plot_roc_curve(unmitigated_pipeline, X_test, Y_test);"
   ]
  },
  {
   "cell_type": "code",
   "execution_count": 32,
   "metadata": {
    "colab": {
     "base_uri": "https://localhost:8080/"
    },
    "id": "pxYppCAy1owq",
    "outputId": "b9febbe3-8016-43a7-c14a-98a94f05716a"
   },
   "outputs": [
    {
     "data": {
      "text/plain": [
       "0.5937900251950625"
      ]
     },
     "execution_count": 32,
     "metadata": {},
     "output_type": "execute_result"
    }
   ],
   "source": [
    "# Show balanced accuracy rate of the 0/1 predictions\n",
    "balanced_accuracy_score(Y_test, Y_pred)"
   ]
  },
  {
   "cell_type": "markdown",
   "metadata": {
    "id": "jmWrDs5N2HVD"
   },
   "source": [
    "As we see, the performance of the model is well above the performance of a coin flip (whose performance would be 0.5 in both cases), albeit it is quite far from a perfect classifier (whose performance would be 1.0 in both cases).\n"
   ]
  },
  {
   "cell_type": "markdown",
   "metadata": {
    "id": "hX8CrWjhD7MB"
   },
   "source": [
    "# **Fairness assessment**"
   ]
  },
  {
   "cell_type": "markdown",
   "metadata": {
    "id": "0CS9-jaxtxh2"
   },
   "source": [
    "## Measuring fairness-related harms\n",
    "\n",
    "\n",
    "\n"
   ]
  },
  {
   "cell_type": "markdown",
   "metadata": {
    "id": "nmvSqI3dPrVk"
   },
   "source": [
    "### Quantify harms\n",
    "\n",
    "Define metrics that quantify harms or benefits:\n",
    "\n",
    "**In the health care scenario**, we could consider two metrics for quantifying harms / benefits:\n",
    "  * **false negative rate**: fraction of patients that are readmitted within 30 days, but that are not recommended for the care management program; this quantifies harm\n",
    "  * **selection rate**: overall fraction of patients that are recommended for the care management program (regardless of whether they are readmittted with 30 days or no); this quantifies benefit; here the assumption is that all patients benefit similarly from the extra care.\n"
   ]
  },
  {
   "cell_type": "markdown",
   "metadata": {
    "id": "9CjHlopBDgSG"
   },
   "source": [
    "## Fairness assessment with `MetricFrame`"
   ]
  },
  {
   "cell_type": "markdown",
   "metadata": {
    "id": "epJO2baHV2Dy"
   },
   "source": [
    "Fairlearn provides the data structure called `MetricFrame` to enable evaluation of disaggregated metrics. We will show how to use a `MetricFrame` object to assess the trained `LogisticRegression` classifier for potential fairness-related harms.\n",
    "\n"
   ]
  },
  {
   "cell_type": "code",
   "execution_count": 33,
   "metadata": {
    "colab": {
     "base_uri": "https://localhost:8080/"
    },
    "id": "0iiAYRvoduPh",
    "outputId": "3287b55e-3610-424d-a99d-a6e19c2b1693"
   },
   "outputs": [
    {
     "data": {
      "text/plain": [
       "race\n",
       "AfricanAmerican   0.428\n",
       "Caucasian         0.442\n",
       "Other             0.523\n",
       "Unknown           0.670\n",
       "Name: false_negative_rate, dtype: object"
      ]
     },
     "execution_count": 33,
     "metadata": {},
     "output_type": "execute_result"
    }
   ],
   "source": [
    "mf1 = MetricFrame(metrics=false_negative_rate,\n",
    "                  y_true=Y_test,\n",
    "                  y_pred=Y_pred,\n",
    "                  sensitive_features=df_test['race'])\n",
    "\n",
    "# The disaggregated metrics are stored in a pandas Series mf1.by_group:\n",
    "\n",
    "mf1.by_group"
   ]
  },
  {
   "cell_type": "code",
   "execution_count": 34,
   "metadata": {
    "colab": {
     "base_uri": "https://localhost:8080/"
    },
    "id": "5tl1Qxt1fT2v",
    "outputId": "e2af1585-7602-4664-f396-2f0d395d4ad2"
   },
   "outputs": [
    {
     "name": "stdout",
     "output_type": "stream",
     "text": [
      "difference: 0.242\n",
      "ratio: 0.639\n",
      "max across groups: 0.67\n"
     ]
    }
   ],
   "source": [
    "# The largest difference, smallest ratio and worst-case performance are accessed as\n",
    "#   mf1.difference(), mf1.ratio(), mf1.group_max()\n",
    "\n",
    "print(f\"difference: {mf1.difference():.3}\\n\"\n",
    "      f\"ratio: {mf1.ratio():.3}\\n\"\n",
    "      f\"max across groups: {mf1.group_max():.3}\")"
   ]
  },
  {
   "cell_type": "code",
   "execution_count": 35,
   "metadata": {
    "colab": {
     "base_uri": "https://localhost:8080/",
     "height": 203
    },
    "id": "R2zmBHo5gk-F",
    "outputId": "e970f25b-7218-4430-8969-d8f891ddce27"
   },
   "outputs": [
    {
     "data": {
      "text/html": [
       "<div>\n",
       "<style scoped>\n",
       "    .dataframe tbody tr th:only-of-type {\n",
       "        vertical-align: middle;\n",
       "    }\n",
       "\n",
       "    .dataframe tbody tr th {\n",
       "        vertical-align: top;\n",
       "    }\n",
       "\n",
       "    .dataframe thead th {\n",
       "        text-align: right;\n",
       "    }\n",
       "</style>\n",
       "<table border=\"1\" class=\"dataframe\">\n",
       "  <thead>\n",
       "    <tr style=\"text-align: right;\">\n",
       "      <th></th>\n",
       "      <th>selection_rate</th>\n",
       "      <th>false_negative_rate</th>\n",
       "      <th>balanced_accuracy</th>\n",
       "    </tr>\n",
       "    <tr>\n",
       "      <th>race</th>\n",
       "      <th></th>\n",
       "      <th></th>\n",
       "      <th></th>\n",
       "    </tr>\n",
       "  </thead>\n",
       "  <tbody>\n",
       "    <tr>\n",
       "      <th>AfricanAmerican</th>\n",
       "      <td>0.400</td>\n",
       "      <td>0.428</td>\n",
       "      <td>0.597</td>\n",
       "    </tr>\n",
       "    <tr>\n",
       "      <th>Caucasian</th>\n",
       "      <td>0.391</td>\n",
       "      <td>0.442</td>\n",
       "      <td>0.594</td>\n",
       "    </tr>\n",
       "    <tr>\n",
       "      <th>Other</th>\n",
       "      <td>0.328</td>\n",
       "      <td>0.523</td>\n",
       "      <td>0.584</td>\n",
       "    </tr>\n",
       "    <tr>\n",
       "      <th>Unknown</th>\n",
       "      <td>0.264</td>\n",
       "      <td>0.670</td>\n",
       "      <td>0.536</td>\n",
       "    </tr>\n",
       "  </tbody>\n",
       "</table>\n",
       "</div>"
      ],
      "text/plain": [
       "                selection_rate false_negative_rate balanced_accuracy\n",
       "race                                                                \n",
       "AfricanAmerican          0.400               0.428             0.597\n",
       "Caucasian                0.391               0.442             0.594\n",
       "Other                    0.328               0.523             0.584\n",
       "Unknown                  0.264               0.670             0.536"
      ]
     },
     "execution_count": 35,
     "metadata": {},
     "output_type": "execute_result"
    }
   ],
   "source": [
    "# You can also evaluate multiple metrics by providing a dictionary\n",
    "\n",
    "metrics_dict = {\n",
    "    \"selection_rate\": selection_rate,\n",
    "    \"false_negative_rate\": false_negative_rate,\n",
    "    \"balanced_accuracy\": balanced_accuracy_score,\n",
    "}\n",
    "\n",
    "metricframe_unmitigated = MetricFrame(metrics=metrics_dict,\n",
    "                  y_true=Y_test,\n",
    "                  y_pred=Y_pred,\n",
    "                  sensitive_features=df_test['race'])\n",
    "\n",
    "# The disaggregated metrics are then stored in a pandas DataFrame:\n",
    "\n",
    "metricframe_unmitigated.by_group"
   ]
  },
  {
   "cell_type": "code",
   "execution_count": 36,
   "metadata": {
    "colab": {
     "base_uri": "https://localhost:8080/"
    },
    "id": "Hc29jRJrhlSC",
    "outputId": "e2ffee50-2764-434f-d322-2a8fdafe6a09"
   },
   "outputs": [
    {
     "data": {
      "text/plain": [
       "selection_rate        0.137\n",
       "false_negative_rate   0.242\n",
       "balanced_accuracy     0.061\n",
       "dtype: object"
      ]
     },
     "execution_count": 36,
     "metadata": {},
     "output_type": "execute_result"
    }
   ],
   "source": [
    "# The largest difference, smallest ratio, and the maximum and minimum values\n",
    "# across the groups are then all pandas Series, for example:\n",
    "\n",
    "metricframe_unmitigated.difference()"
   ]
  },
  {
   "cell_type": "code",
   "execution_count": 37,
   "metadata": {
    "colab": {
     "base_uri": "https://localhost:8080/",
     "height": 172
    },
    "id": "bVbjFa4Aig9Y",
    "outputId": "228f2de1-4de8-4059-b166-c75550e52de2"
   },
   "outputs": [
    {
     "data": {
      "text/html": [
       "<div>\n",
       "<style scoped>\n",
       "    .dataframe tbody tr th:only-of-type {\n",
       "        vertical-align: middle;\n",
       "    }\n",
       "\n",
       "    .dataframe tbody tr th {\n",
       "        vertical-align: top;\n",
       "    }\n",
       "\n",
       "    .dataframe thead th {\n",
       "        text-align: right;\n",
       "    }\n",
       "</style>\n",
       "<table border=\"1\" class=\"dataframe\">\n",
       "  <thead>\n",
       "    <tr style=\"text-align: right;\">\n",
       "      <th></th>\n",
       "      <th>selection_rate</th>\n",
       "      <th>false_negative_rate</th>\n",
       "      <th>balanced_accuracy</th>\n",
       "    </tr>\n",
       "  </thead>\n",
       "  <tbody>\n",
       "    <tr>\n",
       "      <th>difference</th>\n",
       "      <td>0.137</td>\n",
       "      <td>0.242</td>\n",
       "      <td>0.061</td>\n",
       "    </tr>\n",
       "    <tr>\n",
       "      <th>ratio</th>\n",
       "      <td>0.659</td>\n",
       "      <td>0.639</td>\n",
       "      <td>0.897</td>\n",
       "    </tr>\n",
       "    <tr>\n",
       "      <th>group_min</th>\n",
       "      <td>0.264</td>\n",
       "      <td>0.428</td>\n",
       "      <td>0.536</td>\n",
       "    </tr>\n",
       "    <tr>\n",
       "      <th>group_max</th>\n",
       "      <td>0.400</td>\n",
       "      <td>0.670</td>\n",
       "      <td>0.597</td>\n",
       "    </tr>\n",
       "  </tbody>\n",
       "</table>\n",
       "</div>"
      ],
      "text/plain": [
       "           selection_rate false_negative_rate balanced_accuracy\n",
       "difference          0.137               0.242             0.061\n",
       "ratio               0.659               0.639             0.897\n",
       "group_min           0.264               0.428             0.536\n",
       "group_max           0.400               0.670             0.597"
      ]
     },
     "execution_count": 37,
     "metadata": {},
     "output_type": "execute_result"
    }
   ],
   "source": [
    "# You'll probably want to view them transposed:\n",
    "\n",
    "pd.DataFrame({'difference': metricframe_unmitigated.difference(),\n",
    "              'ratio': metricframe_unmitigated.ratio(),\n",
    "              'group_min': metricframe_unmitigated.group_min(),\n",
    "              'group_max': metricframe_unmitigated.group_max()}).T"
   ]
  },
  {
   "cell_type": "code",
   "execution_count": 38,
   "metadata": {
    "colab": {
     "base_uri": "https://localhost:8080/",
     "height": 311
    },
    "id": "DvjRBIcjjSkl",
    "outputId": "0aebd5a1-f287-4d75-cdd3-8af1daf1d190"
   },
   "outputs": [
    {
     "data": {
      "image/png": "[encoded data removed]",
      "text/plain": [
       "<Figure size 864x288 with 3 Axes>"
      ]
     },
     "metadata": {},
     "output_type": "display_data"
    }
   ],
   "source": [
    "# You can also easily plot all of the metrics using DataFrame plotting capabilities\n",
    "\n",
    "metricframe_unmitigated.by_group.plot.bar(subplots=True, layout= [1,3], figsize=(12, 4),\n",
    "                      legend=False, rot=-45, position=1.5);"
   ]
  },
  {
   "cell_type": "markdown",
   "metadata": {
    "id": "b5C3SITjuPUm"
   },
   "source": [
    "According to the above bar chart, it seems that the group *Unknown* is selected for the care management program less often than other groups as reflected by the selection rate. Also this group experiences the largest false negative rate, so a larger fraction of group members that are likely to benefit from the care management program are not selected. Finally, the balanced accuracy on this group is also the lowest.\n",
    "\n"
   ]
  },
  {
   "cell_type": "markdown",
   "metadata": {
    "id": "c2Qs68rv2_Vg"
   },
   "source": [
    "We observe disparity, even though we did not include race in our model. There's a variety of reasons why such disparities may occur. It could be due to representational issues (i.e., not enough instances per group), or because the feature distribution itself differs across groups (i.e., different relationship between features and target variable, obvious example would be people with darker skin in facial recognition systems, but can be much more subtle). Real-world applications often exhibit both kinds of issues at the same time."
   ]
  },
  {
   "cell_type": "markdown",
   "metadata": {
    "id": "8ZqVGZkam1eH"
   },
   "source": [
    "\n",
    "\n",
    "---\n"
   ]
  },
  {
   "cell_type": "markdown",
   "metadata": {
    "id": "-dgITdRiD7Yu"
   },
   "source": [
    "# **Mitigating fairness-related harms in ML models**"
   ]
  },
  {
   "cell_type": "markdown",
   "metadata": {
    "id": "sbUSG1jVA06G"
   },
   "source": [
    "We have found that the logistic regression predictor leads to a large difference in false negative rates between the groups. We next look at **algorithmic mitigation strategies** of this fairness issue (and similar ones).\n",
    "\n",
    "Within the model training stage, mitigation may occur at different steps relative to model training:\n",
    "\n",
    "* **Preprocessing**: A mitigation algorithm is applied to transform the input data to the training algorithm; for example, some strategies seek to remove and dependence between the input features and sensitive features.\n",
    "\n",
    "* **At training time**: The model is trained by an (optimization) algorithm that seeks to satisfy fairness constraints.\n",
    "\n",
    "* **Postprocessing**: The output of a trained model is transformed to mitigate fairness issues; for example, the predicted probability of readmission is thresholded according to a group-specific threshold.\n",
    "\n",
    "We will now dive into two algorithms: a postprocessing approach and a reductions approach (which is a training-time algorithm). Both of them are in fact **meta-algorithms** in the sense that they act as wrappers around *any* standard (fairness-unaware) machine learning algorithms. This makes them quite versatile in practice.\n"
   ]
  },
  {
   "cell_type": "markdown",
   "metadata": {
    "id": "rX8QycCL0mJj"
   },
   "source": [
    "## Postprocessing with `ThresholdOptimizer`"
   ]
  },
  {
   "cell_type": "markdown",
   "metadata": {
    "id": "fRZfSFzcFaXP"
   },
   "source": [
    "**Postprocessing** techniques are a class of unfairness-mitigation algorithms that take an already trained model and a dataset as an input and seek to fit a transformation function to model's outputs to satisfy some (group) fairness constraint(s). They might be the only feasible unfairness mitigation approach when developers cannot influence training of the model, due to practical reasons or due to security or privacy.\n"
   ]
  },
  {
   "cell_type": "markdown",
   "metadata": {
    "id": "6PgzZkK9Wbni"
   },
   "source": [
    "Here we use the `ThresholdOptimizer` algorithm from Fairlearn, which follows the approach of [Hardt, Price, and Srebro (2016)](https://arxiv.org/abs/1610.02413).\n",
    "\n",
    "`ThresholdOptimizer` takes in an exisiting (possibly pre-fit) machine learning model whose predictions act as a scoring function and identifies a separate thrceshold for each group in order to optimize some specified objective metric (such as **balanced accuracy**) subject to specified fairness constraints (such as **false negative rate parity**). Thus, the resulting classifier is just a suitably thresholded version of the underlying machinelearning model.\n",
    "\n",
    "The constraint **false negative rate parity** requires that all the groups have equal values of false negative rate.\n",
    "\n"
   ]
  },
  {
   "cell_type": "markdown",
   "metadata": {
    "id": "OFOovaN7AwDr"
   },
   "source": [
    "To instatiate our `ThresholdOptimizer`, we pass in:\n",
    "\n",
    "*   An existing `estimator` that we wish to threshold. \n",
    "*   The fairness `constraints` we want to satisfy.\n",
    "*   The `objective` metric we want to maximize.\n",
    "\n"
   ]
  },
  {
   "cell_type": "code",
   "execution_count": 39,
   "metadata": {
    "id": "8je0grKPWHhy"
   },
   "outputs": [],
   "source": [
    "# Now we instantite ThresholdOptimizer with the logistic regression estimator\n",
    "postprocess_est = ThresholdOptimizer(\n",
    "    estimator=unmitigated_pipeline,\n",
    "    constraints=\"false_negative_rate_parity\",\n",
    "    objective=\"balanced_accuracy_score\",\n",
    "    prefit=True,\n",
    "    predict_method='predict_proba'\n",
    ")"
   ]
  },
  {
   "cell_type": "markdown",
   "metadata": {
    "id": "VDD86L7eCSe0"
   },
   "source": [
    "In order to use the `ThresholdOptimizer`, we need access to the sensitive features **both during training time and once it's deployed**."
   ]
  },
  {
   "cell_type": "code",
   "execution_count": 40,
   "metadata": {
    "colab": {
     "base_uri": "https://localhost:8080/",
     "height": 344
    },
    "id": "VCHJBB7x1rAK",
    "outputId": "dfc6338e-2be0-4007-bde2-fd8544cc4a89"
   },
   "outputs": [
    {
     "data": {
      "text/html": [
       "<style>#sk-3b9baf35-e25e-443d-9645-a6971c4a0b4f {color: black;background-color: white;}#sk-3b9baf35-e25e-443d-9645-a6971c4a0b4f pre{padding: 0;}#sk-3b9baf35-e25e-443d-9645-a6971c4a0b4f div.sk-toggleable {background-color: white;}#sk-3b9baf35-e25e-443d-9645-a6971c4a0b4f label.sk-toggleable__label {cursor: pointer;display: block;width: 100%;margin-bottom: 0;padding: 0.3em;box-sizing: border-box;text-align: center;}#sk-3b9baf35-e25e-443d-9645-a6971c4a0b4f label.sk-toggleable__label-arrow:before {content: \"▸\";float: left;margin-right: 0.25em;color: #696969;}#sk-3b9baf35-e25e-443d-9645-a6971c4a0b4f label.sk-toggleable__label-arrow:hover:before {color: black;}#sk-3b9baf35-e25e-443d-9645-a6971c4a0b4f div.sk-estimator:hover label.sk-toggleable__label-arrow:before {color: black;}#sk-3b9baf35-e25e-443d-9645-a6971c4a0b4f div.sk-toggleable__content {max-height: 0;max-width: 0;overflow: hidden;text-align: left;background-color: #f0f8ff;}#sk-3b9baf35-e25e-443d-9645-a6971c4a0b4f div.sk-toggleable__content pre {margin: 0.2em;color: black;border-radius: 0.25em;background-color: #f0f8ff;}#sk-3b9baf35-e25e-443d-9645-a6971c4a0b4f input.sk-toggleable__control:checked~div.sk-toggleable__content {max-height: 200px;max-width: 100%;overflow: auto;}#sk-3b9baf35-e25e-443d-9645-a6971c4a0b4f input.sk-toggleable__control:checked~label.sk-toggleable__label-arrow:before {content: \"▾\";}#sk-3b9baf35-e25e-443d-9645-a6971c4a0b4f div.sk-estimator input.sk-toggleable__control:checked~label.sk-toggleable__label {background-color: #d4ebff;}#sk-3b9baf35-e25e-443d-9645-a6971c4a0b4f div.sk-label input.sk-toggleable__control:checked~label.sk-toggleable__label {background-color: #d4ebff;}#sk-3b9baf35-e25e-443d-9645-a6971c4a0b4f input.sk-hidden--visually {border: 0;clip: rect(1px 1px 1px 1px);clip: rect(1px, 1px, 1px, 1px);height: 1px;margin: -1px;overflow: hidden;padding: 0;position: absolute;width: 1px;}#sk-3b9baf35-e25e-443d-9645-a6971c4a0b4f div.sk-estimator {font-family: monospace;background-color: #f0f8ff;border: 1px dotted black;border-radius: 0.25em;box-sizing: border-box;margin-bottom: 0.5em;}#sk-3b9baf35-e25e-443d-9645-a6971c4a0b4f div.sk-estimator:hover {background-color: #d4ebff;}#sk-3b9baf35-e25e-443d-9645-a6971c4a0b4f div.sk-parallel-item::after {content: \"\";width: 100%;border-bottom: 1px solid gray;flex-grow: 1;}#sk-3b9baf35-e25e-443d-9645-a6971c4a0b4f div.sk-label:hover label.sk-toggleable__label {background-color: #d4ebff;}#sk-3b9baf35-e25e-443d-9645-a6971c4a0b4f div.sk-serial::before {content: \"\";position: absolute;border-left: 1px solid gray;box-sizing: border-box;top: 2em;bottom: 0;left: 50%;}#sk-3b9baf35-e25e-443d-9645-a6971c4a0b4f div.sk-serial {display: flex;flex-direction: column;align-items: center;background-color: white;padding-right: 0.2em;padding-left: 0.2em;}#sk-3b9baf35-e25e-443d-9645-a6971c4a0b4f div.sk-item {z-index: 1;}#sk-3b9baf35-e25e-443d-9645-a6971c4a0b4f div.sk-parallel {display: flex;align-items: stretch;justify-content: center;background-color: white;}#sk-3b9baf35-e25e-443d-9645-a6971c4a0b4f div.sk-parallel::before {content: \"\";position: absolute;border-left: 1px solid gray;box-sizing: border-box;top: 2em;bottom: 0;left: 50%;}#sk-3b9baf35-e25e-443d-9645-a6971c4a0b4f div.sk-parallel-item {display: flex;flex-direction: column;position: relative;background-color: white;}#sk-3b9baf35-e25e-443d-9645-a6971c4a0b4f div.sk-parallel-item:first-child::after {align-self: flex-end;width: 50%;}#sk-3b9baf35-e25e-443d-9645-a6971c4a0b4f div.sk-parallel-item:last-child::after {align-self: flex-start;width: 50%;}#sk-3b9baf35-e25e-443d-9645-a6971c4a0b4f div.sk-parallel-item:only-child::after {width: 0;}#sk-3b9baf35-e25e-443d-9645-a6971c4a0b4f div.sk-dashed-wrapped {border: 1px dashed gray;margin: 0 0.4em 0.5em 0.4em;box-sizing: border-box;padding-bottom: 0.4em;background-color: white;position: relative;}#sk-3b9baf35-e25e-443d-9645-a6971c4a0b4f div.sk-label label {font-family: monospace;font-weight: bold;background-color: white;display: inline-block;line-height: 1.2em;}#sk-3b9baf35-e25e-443d-9645-a6971c4a0b4f div.sk-label-container {position: relative;z-index: 2;text-align: center;}#sk-3b9baf35-e25e-443d-9645-a6971c4a0b4f div.sk-container {/* jupyter's `normalize.less` sets `[hidden] { display: none; }` but bootstrap.min.css set `[hidden] { display: none !important; }` so we also need the `!important` here to be able to override the default hidden behavior on the sphinx rendered scikit-learn.org. See: https://github.com/scikit-learn/scikit-learn/issues/21755 */display: inline-block !important;position: relative;}#sk-3b9baf35-e25e-443d-9645-a6971c4a0b4f div.sk-text-repr-fallback {display: none;}</style><div id=\"sk-3b9baf35-e25e-443d-9645-a6971c4a0b4f\" class=\"sk-top-container\"><div class=\"sk-text-repr-fallback\"><pre>ThresholdOptimizer(constraints=&#x27;false_negative_rate_parity&#x27;,\n",
       "                   estimator=Pipeline(steps=[(&#x27;preprocessing&#x27;,\n",
       "                                              StandardScaler()),\n",
       "                                             (&#x27;logistic_regression&#x27;,\n",
       "                                              LogisticRegression(max_iter=1000))]),\n",
       "                   objective=&#x27;balanced_accuracy_score&#x27;,\n",
       "                   predict_method=&#x27;predict_proba&#x27;, prefit=True)</pre><b>Please rerun this cell to show the HTML repr or trust the notebook.</b></div><div class=\"sk-container\" hidden><div class=\"sk-item sk-dashed-wrapped\"><div class=\"sk-label-container\"><div class=\"sk-label sk-toggleable\"><input class=\"sk-toggleable__control sk-hidden--visually\" id=\"66d25f51-0606-4bd6-bfe4-bb3d68c8505e\" type=\"checkbox\" ><label for=\"66d25f51-0606-4bd6-bfe4-bb3d68c8505e\" class=\"sk-toggleable__label sk-toggleable__label-arrow\">ThresholdOptimizer</label><div class=\"sk-toggleable__content\"><pre>ThresholdOptimizer(constraints=&#x27;false_negative_rate_parity&#x27;,\n",
       "                   estimator=Pipeline(steps=[(&#x27;preprocessing&#x27;,\n",
       "                                              StandardScaler()),\n",
       "                                             (&#x27;logistic_regression&#x27;,\n",
       "                                              LogisticRegression(max_iter=1000))]),\n",
       "                   objective=&#x27;balanced_accuracy_score&#x27;,\n",
       "                   predict_method=&#x27;predict_proba&#x27;, prefit=True)</pre></div></div></div><div class=\"sk-parallel\"><div class=\"sk-parallel-item\"><div class=\"sk-item\"><div class=\"sk-serial\"><div class=\"sk-item\"><div class=\"sk-serial\"><div class=\"sk-item\"><div class=\"sk-estimator sk-toggleable\"><input class=\"sk-toggleable__control sk-hidden--visually\" id=\"2be4a352-9d7f-4c74-9e6b-a0170b096cbe\" type=\"checkbox\" ><label for=\"2be4a352-9d7f-4c74-9e6b-a0170b096cbe\" class=\"sk-toggleable__label sk-toggleable__label-arrow\">StandardScaler</label><div class=\"sk-toggleable__content\"><pre>StandardScaler()</pre></div></div></div><div class=\"sk-item\"><div class=\"sk-estimator sk-toggleable\"><input class=\"sk-toggleable__control sk-hidden--visually\" id=\"5662b96f-e867-48c9-a24e-c0529f1a9235\" type=\"checkbox\" ><label for=\"5662b96f-e867-48c9-a24e-c0529f1a9235\" class=\"sk-toggleable__label sk-toggleable__label-arrow\">LogisticRegression</label><div class=\"sk-toggleable__content\"><pre>LogisticRegression(max_iter=1000)</pre></div></div></div></div></div></div></div></div></div></div></div></div>"
      ],
      "text/plain": [
       "ThresholdOptimizer(constraints='false_negative_rate_parity',\n",
       "                   estimator=Pipeline(steps=[('preprocessing',\n",
       "                                              StandardScaler()),\n",
       "                                             ('logistic_regression',\n",
       "                                              LogisticRegression(max_iter=1000))]),\n",
       "                   objective='balanced_accuracy_score',\n",
       "                   predict_method='predict_proba', prefit=True)"
      ]
     },
     "execution_count": 40,
     "metadata": {},
     "output_type": "execute_result"
    }
   ],
   "source": [
    "postprocess_est.fit(X_train_bal, Y_train_bal, sensitive_features=A_train_bal)"
   ]
  },
  {
   "cell_type": "code",
   "execution_count": 45,
   "metadata": {},
   "outputs": [
    {
     "data": {
      "image/png": "[encoded data removed]",
      "text/plain": [
       "<Figure size 432x288 with 1 Axes>"
      ]
     },
     "metadata": {},
     "output_type": "display_data"
    }
   ],
   "source": [
    "plot_threshold_optimizer(postprocess_est)"
   ]
  },
  {
   "cell_type": "markdown",
   "metadata": {},
   "source": [
    "The lines per sensitive feature group are created as follows:\n",
    "- separate all sensitive feature groups\n",
    "- on each group (separately) try all thresholds possible (label 1 if score larger than or smaller than threshold)\n",
    "- plot all of them w.r.t. our fairness and performance metrics and create convex hull for each group\n",
    "- find the false negative rate where we maximize our balanced accuracy score\n",
    "- Interpolate between two points on the convex hull. This becomes our decision rule!"
   ]
  },
  {
   "cell_type": "code",
   "execution_count": 46,
   "metadata": {},
   "outputs": [
    {
     "data": {
      "text/plain": [
       "{'AfricanAmerican': {'p0': 0.8307815126050422,\n",
       "  'operation0': [>0.48074786407528053],\n",
       "  'p1': 0.16921848739495782,\n",
       "  'operation1': [>0.529649951710353]},\n",
       " 'Caucasian': {'p0': 0.6009999999998796,\n",
       "  'operation0': [>0.47659266634712427],\n",
       "  'p1': 0.39900000000012037,\n",
       "  'operation1': [>0.4767201841172237]},\n",
       " 'Other': {'p0': 0.6000000000000001,\n",
       "  'operation0': [>0.45349385499174055],\n",
       "  'p1': 0.3999999999999999,\n",
       "  'operation1': [>0.49548258291649594]},\n",
       " 'Unknown': {'p0': 0.7612727272727273,\n",
       "  'operation0': [>0.42796506996906125],\n",
       "  'p1': 0.23872727272727268,\n",
       "  'operation1': [>0.44983104118875744]}}"
      ]
     },
     "execution_count": 46,
     "metadata": {},
     "output_type": "execute_result"
    }
   ],
   "source": [
    "postprocess_est.interpolated_thresholder_.interpolation_dict"
   ]
  },
  {
   "cell_type": "markdown",
   "metadata": {},
   "source": [
    "In practice this means that we have three segments where the outer two are deterministic (0 and 1) and in between we get a probabilistic output. For example, >0.48 and >0.52 means that scores below 0.48 get label 0, scores above 0.52 get label 1, and in between they get label 1 with probability 83%.\n",
    "\n",
    "Probabilistic outputs are not desirable in most applications, but this particular algorithm is still used as a common comparison since it's able to meet the fairness criteria exactly (at least on training data) rather than just approximate it. One can also approximate this behavior by derandomizing it, but the resulting threshold doesn't have the same theoretical properties, of course."
   ]
  },
  {
   "cell_type": "code",
   "execution_count": 41,
   "metadata": {
    "id": "YscNZsYU1rCY"
   },
   "outputs": [],
   "source": [
    "# Record and evaluate the output of the trained ThresholdOptimizer on test data\n",
    "\n",
    "Y_pred_postprocess = postprocess_est.predict(X_test, sensitive_features=A_test)\n",
    "metricframe_postprocess = MetricFrame(\n",
    "    metrics=metrics_dict,\n",
    "    y_true=Y_test,\n",
    "    y_pred=Y_pred_postprocess,\n",
    "    sensitive_features=A_test\n",
    ")"
   ]
  },
  {
   "cell_type": "markdown",
   "metadata": {
    "id": "_izbGv6tQ1KD"
   },
   "source": [
    "We can now inspect how the metric values differ between the postprocessed model and the unmitigated model:"
   ]
  },
  {
   "cell_type": "code",
   "execution_count": 42,
   "metadata": {
    "colab": {
     "base_uri": "https://localhost:8080/",
     "height": 254
    },
    "id": "-9mtWyWc1rH5",
    "outputId": "982dcb16-b82f-42bc-addb-1caaf2d0aa09"
   },
   "outputs": [
    {
     "data": {
      "text/html": [
       "<div>\n",
       "<style scoped>\n",
       "    .dataframe tbody tr th:only-of-type {\n",
       "        vertical-align: middle;\n",
       "    }\n",
       "\n",
       "    .dataframe tbody tr th {\n",
       "        vertical-align: top;\n",
       "    }\n",
       "\n",
       "    .dataframe thead tr th {\n",
       "        text-align: left;\n",
       "    }\n",
       "\n",
       "    .dataframe thead tr:last-of-type th {\n",
       "        text-align: right;\n",
       "    }\n",
       "</style>\n",
       "<table border=\"1\" class=\"dataframe\">\n",
       "  <thead>\n",
       "    <tr>\n",
       "      <th></th>\n",
       "      <th colspan=\"3\" halign=\"left\">Unmitigated</th>\n",
       "      <th colspan=\"3\" halign=\"left\">ThresholdOptimizer</th>\n",
       "    </tr>\n",
       "    <tr>\n",
       "      <th></th>\n",
       "      <th>selection_rate</th>\n",
       "      <th>false_negative_rate</th>\n",
       "      <th>balanced_accuracy</th>\n",
       "      <th>selection_rate</th>\n",
       "      <th>false_negative_rate</th>\n",
       "      <th>balanced_accuracy</th>\n",
       "    </tr>\n",
       "    <tr>\n",
       "      <th>race</th>\n",
       "      <th></th>\n",
       "      <th></th>\n",
       "      <th></th>\n",
       "      <th></th>\n",
       "      <th></th>\n",
       "      <th></th>\n",
       "    </tr>\n",
       "  </thead>\n",
       "  <tbody>\n",
       "    <tr>\n",
       "      <th>AfricanAmerican</th>\n",
       "      <td>0.400</td>\n",
       "      <td>0.428</td>\n",
       "      <td>0.597</td>\n",
       "      <td>0.427</td>\n",
       "      <td>0.400</td>\n",
       "      <td>0.598</td>\n",
       "    </tr>\n",
       "    <tr>\n",
       "      <th>Caucasian</th>\n",
       "      <td>0.391</td>\n",
       "      <td>0.442</td>\n",
       "      <td>0.594</td>\n",
       "      <td>0.451</td>\n",
       "      <td>0.389</td>\n",
       "      <td>0.590</td>\n",
       "    </tr>\n",
       "    <tr>\n",
       "      <th>Other</th>\n",
       "      <td>0.328</td>\n",
       "      <td>0.523</td>\n",
       "      <td>0.584</td>\n",
       "      <td>0.412</td>\n",
       "      <td>0.455</td>\n",
       "      <td>0.574</td>\n",
       "    </tr>\n",
       "    <tr>\n",
       "      <th>Unknown</th>\n",
       "      <td>0.264</td>\n",
       "      <td>0.670</td>\n",
       "      <td>0.536</td>\n",
       "      <td>0.459</td>\n",
       "      <td>0.436</td>\n",
       "      <td>0.557</td>\n",
       "    </tr>\n",
       "  </tbody>\n",
       "</table>\n",
       "</div>"
      ],
      "text/plain": [
       "                   Unmitigated                                        \\\n",
       "                selection_rate false_negative_rate balanced_accuracy   \n",
       "race                                                                   \n",
       "AfricanAmerican          0.400               0.428             0.597   \n",
       "Caucasian                0.391               0.442             0.594   \n",
       "Other                    0.328               0.523             0.584   \n",
       "Unknown                  0.264               0.670             0.536   \n",
       "\n",
       "                ThresholdOptimizer                                        \n",
       "                    selection_rate false_negative_rate balanced_accuracy  \n",
       "race                                                                      \n",
       "AfricanAmerican              0.427               0.400             0.598  \n",
       "Caucasian                    0.451               0.389             0.590  \n",
       "Other                        0.412               0.455             0.574  \n",
       "Unknown                      0.459               0.436             0.557  "
      ]
     },
     "execution_count": 42,
     "metadata": {},
     "output_type": "execute_result"
    }
   ],
   "source": [
    "pd.concat([metricframe_unmitigated.by_group,\n",
    "           metricframe_postprocess.by_group],\n",
    "           keys=['Unmitigated', 'ThresholdOptimizer'],\n",
    "           axis=1)"
   ]
  },
  {
   "cell_type": "markdown",
   "metadata": {
    "id": "mzPCUFsXPU_S"
   },
   "source": [
    "We next zoom in on differences between the largest and the smallest metric values:"
   ]
  },
  {
   "cell_type": "code",
   "execution_count": 43,
   "metadata": {
    "colab": {
     "base_uri": "https://localhost:8080/",
     "height": 127
    },
    "id": "dsC4v8Ap1rKt",
    "outputId": "ebf489b6-07ac-45d5-ae2b-848d6488dbb4"
   },
   "outputs": [
    {
     "data": {
      "text/html": [
       "<div>\n",
       "<style scoped>\n",
       "    .dataframe tbody tr th:only-of-type {\n",
       "        vertical-align: middle;\n",
       "    }\n",
       "\n",
       "    .dataframe tbody tr th {\n",
       "        vertical-align: top;\n",
       "    }\n",
       "\n",
       "    .dataframe thead th {\n",
       "        text-align: right;\n",
       "    }\n",
       "</style>\n",
       "<table border=\"1\" class=\"dataframe\">\n",
       "  <thead>\n",
       "    <tr style=\"text-align: right;\">\n",
       "      <th></th>\n",
       "      <th>selection_rate</th>\n",
       "      <th>false_negative_rate</th>\n",
       "      <th>balanced_accuracy</th>\n",
       "    </tr>\n",
       "  </thead>\n",
       "  <tbody>\n",
       "    <tr>\n",
       "      <th>Unmitigated: difference</th>\n",
       "      <td>0.137</td>\n",
       "      <td>0.242</td>\n",
       "      <td>0.061</td>\n",
       "    </tr>\n",
       "    <tr>\n",
       "      <th>ThresholdOptimizer: difference</th>\n",
       "      <td>0.047</td>\n",
       "      <td>0.066</td>\n",
       "      <td>0.041</td>\n",
       "    </tr>\n",
       "  </tbody>\n",
       "</table>\n",
       "</div>"
      ],
      "text/plain": [
       "                               selection_rate false_negative_rate  \\\n",
       "Unmitigated: difference                 0.137               0.242   \n",
       "ThresholdOptimizer: difference          0.047               0.066   \n",
       "\n",
       "                               balanced_accuracy  \n",
       "Unmitigated: difference                    0.061  \n",
       "ThresholdOptimizer: difference             0.041  "
      ]
     },
     "execution_count": 43,
     "metadata": {},
     "output_type": "execute_result"
    }
   ],
   "source": [
    "pd.concat([metricframe_unmitigated.difference(),\n",
    "           metricframe_postprocess.difference()],\n",
    "          keys=['Unmitigated: difference', 'ThresholdOptimizer: difference'],\n",
    "          axis=1).T"
   ]
  },
  {
   "cell_type": "markdown",
   "metadata": {
    "id": "Hhi_RSxSRoyg"
   },
   "source": [
    "As we see, `ThresholdOptimizer` was able to substantially decrease the difference between the values of false negative rate."
   ]
  },
  {
   "cell_type": "markdown",
   "metadata": {
    "id": "GarQvopkVN2S"
   },
   "source": [
    "Finally, we visualize the disagregated statistics:"
   ]
  },
  {
   "cell_type": "code",
   "execution_count": 44,
   "metadata": {
    "colab": {
     "base_uri": "https://localhost:8080/",
     "height": 314
    },
    "id": "EsTehBH2SW7f",
    "outputId": "3cf05d43-1389-41a2-e2dc-7e7511833c2b"
   },
   "outputs": [
    {
     "data": {
      "text/plain": [
       "array([[<AxesSubplot:title={'center':'selection_rate'}, xlabel='race'>,\n",
       "        <AxesSubplot:title={'center':'false_negative_rate'}, xlabel='race'>,\n",
       "        <AxesSubplot:title={'center':'balanced_accuracy'}, xlabel='race'>]],\n",
       "      dtype=object)"
      ]
     },
     "execution_count": 44,
     "metadata": {},
     "output_type": "execute_result"
    },
    {
     "data": {
      "image/png": "[encoded data removed]",
      "text/plain": [
       "<Figure size 864x288 with 3 Axes>"
      ]
     },
     "metadata": {},
     "output_type": "display_data"
    }
   ],
   "source": [
    "metricframe_postprocess.by_group.plot.bar(subplots=True, layout=[1,3], figsize=(12, 4), legend=False, rot=-45, position=1.5)"
   ]
  },
  {
   "cell_type": "markdown",
   "metadata": {
    "id": "NU_rncBQ0lab"
   },
   "source": [
    "## Reductions approach with `ExponentiatedGradient`"
   ]
  },
  {
   "cell_type": "markdown",
   "metadata": {
    "id": "bpyBnqNLZ-w_"
   },
   "source": [
    "With the `ThresholdOptimizer`, we took a fairness-unaware model and transformed the model's decision boundary to satisfy our fairness constraints. One limitation of `ThresholdOptimizer` is that it needs access to the sensitive features at deployment time.\n",
    "\n",
    "In this section, we will show how to use the _reductions_ approach of [Agarwal et. al (2018)](https://arxiv.org/abs/1803.02453) to obtain a model that satisfies the fairness constraints, but does not need access to sensitive features at deployment time.\n",
    "\n",
    "The main reduction algorithm in Fairlearn is `ExponentiatedGradient`. It creates a sequence of reweighted datasets and retrains the wrapped model on each of them. The retraining process is guaranteed to find a model that satisfies the fairness constraints while optimizing the performance metric. The reweighting happens after identifying which rows contribute to violations of our fairness constraints. When identifying such a row the algorithm can either put more weight on this row, i.e., attach more importance to it in the next retraining iteration, or change the training label in case the underlying classifier is already correctly classifying the row. \n",
    "\n",
    "The model returned by `ExponentiatedGradient` consists of several inner models, returned by the wrapped estimator. At deployment time, `ExponentiatedGradient` randomizes among these models according to a specific probability weights."
   ]
  },
  {
   "cell_type": "code",
   "execution_count": 47,
   "metadata": {
    "id": "ToZdrYen0tJZ"
   },
   "outputs": [],
   "source": [
    "expgrad_est = ExponentiatedGradient(\n",
    "    estimator=LogisticRegression(max_iter=1000, random_state=random_seed),\n",
    "    constraints=TruePositiveRateParity(difference_bound=0.02)\n",
    ")"
   ]
  },
  {
   "cell_type": "markdown",
   "metadata": {
    "id": "bLFk3SCxrskU"
   },
   "source": [
    "The constraints above are expressed for the true positive parity, they require that the difference between the largest and the smallest true positive rate (TPR) across all groups be at most 0.02. Since false negative rate (FNR) is equal to 1-TPR, this is equivalent to requiring that the difference between the largest and smallest FNR be at most 0.02."
   ]
  },
  {
   "cell_type": "code",
   "execution_count": 48,
   "metadata": {
    "colab": {
     "base_uri": "https://localhost:8080/",
     "height": 81
    },
    "id": "UFSF5Wn-3M-H",
    "outputId": "43f639cf-58ef-4425-b772-3daec9d9ff3d"
   },
   "outputs": [
    {
     "data": {
      "text/html": [
       "<style>#sk-ff35230a-ddef-4359-be3e-9da9778c1aaa {color: black;background-color: white;}#sk-ff35230a-ddef-4359-be3e-9da9778c1aaa pre{padding: 0;}#sk-ff35230a-ddef-4359-be3e-9da9778c1aaa div.sk-toggleable {background-color: white;}#sk-ff35230a-ddef-4359-be3e-9da9778c1aaa label.sk-toggleable__label {cursor: pointer;display: block;width: 100%;margin-bottom: 0;padding: 0.3em;box-sizing: border-box;text-align: center;}#sk-ff35230a-ddef-4359-be3e-9da9778c1aaa label.sk-toggleable__label-arrow:before {content: \"▸\";float: left;margin-right: 0.25em;color: #696969;}#sk-ff35230a-ddef-4359-be3e-9da9778c1aaa label.sk-toggleable__label-arrow:hover:before {color: black;}#sk-ff35230a-ddef-4359-be3e-9da9778c1aaa div.sk-estimator:hover label.sk-toggleable__label-arrow:before {color: black;}#sk-ff35230a-ddef-4359-be3e-9da9778c1aaa div.sk-toggleable__content {max-height: 0;max-width: 0;overflow: hidden;text-align: left;background-color: #f0f8ff;}#sk-ff35230a-ddef-4359-be3e-9da9778c1aaa div.sk-toggleable__content pre {margin: 0.2em;color: black;border-radius: 0.25em;background-color: #f0f8ff;}#sk-ff35230a-ddef-4359-be3e-9da9778c1aaa input.sk-toggleable__control:checked~div.sk-toggleable__content {max-height: 200px;max-width: 100%;overflow: auto;}#sk-ff35230a-ddef-4359-be3e-9da9778c1aaa input.sk-toggleable__control:checked~label.sk-toggleable__label-arrow:before {content: \"▾\";}#sk-ff35230a-ddef-4359-be3e-9da9778c1aaa div.sk-estimator input.sk-toggleable__control:checked~label.sk-toggleable__label {background-color: #d4ebff;}#sk-ff35230a-ddef-4359-be3e-9da9778c1aaa div.sk-label input.sk-toggleable__control:checked~label.sk-toggleable__label {background-color: #d4ebff;}#sk-ff35230a-ddef-4359-be3e-9da9778c1aaa input.sk-hidden--visually {border: 0;clip: rect(1px 1px 1px 1px);clip: rect(1px, 1px, 1px, 1px);height: 1px;margin: -1px;overflow: hidden;padding: 0;position: absolute;width: 1px;}#sk-ff35230a-ddef-4359-be3e-9da9778c1aaa div.sk-estimator {font-family: monospace;background-color: #f0f8ff;border: 1px dotted black;border-radius: 0.25em;box-sizing: border-box;margin-bottom: 0.5em;}#sk-ff35230a-ddef-4359-be3e-9da9778c1aaa div.sk-estimator:hover {background-color: #d4ebff;}#sk-ff35230a-ddef-4359-be3e-9da9778c1aaa div.sk-parallel-item::after {content: \"\";width: 100%;border-bottom: 1px solid gray;flex-grow: 1;}#sk-ff35230a-ddef-4359-be3e-9da9778c1aaa div.sk-label:hover label.sk-toggleable__label {background-color: #d4ebff;}#sk-ff35230a-ddef-4359-be3e-9da9778c1aaa div.sk-serial::before {content: \"\";position: absolute;border-left: 1px solid gray;box-sizing: border-box;top: 2em;bottom: 0;left: 50%;}#sk-ff35230a-ddef-4359-be3e-9da9778c1aaa div.sk-serial {display: flex;flex-direction: column;align-items: center;background-color: white;padding-right: 0.2em;padding-left: 0.2em;}#sk-ff35230a-ddef-4359-be3e-9da9778c1aaa div.sk-item {z-index: 1;}#sk-ff35230a-ddef-4359-be3e-9da9778c1aaa div.sk-parallel {display: flex;align-items: stretch;justify-content: center;background-color: white;}#sk-ff35230a-ddef-4359-be3e-9da9778c1aaa div.sk-parallel::before {content: \"\";position: absolute;border-left: 1px solid gray;box-sizing: border-box;top: 2em;bottom: 0;left: 50%;}#sk-ff35230a-ddef-4359-be3e-9da9778c1aaa div.sk-parallel-item {display: flex;flex-direction: column;position: relative;background-color: white;}#sk-ff35230a-ddef-4359-be3e-9da9778c1aaa div.sk-parallel-item:first-child::after {align-self: flex-end;width: 50%;}#sk-ff35230a-ddef-4359-be3e-9da9778c1aaa div.sk-parallel-item:last-child::after {align-self: flex-start;width: 50%;}#sk-ff35230a-ddef-4359-be3e-9da9778c1aaa div.sk-parallel-item:only-child::after {width: 0;}#sk-ff35230a-ddef-4359-be3e-9da9778c1aaa div.sk-dashed-wrapped {border: 1px dashed gray;margin: 0 0.4em 0.5em 0.4em;box-sizing: border-box;padding-bottom: 0.4em;background-color: white;position: relative;}#sk-ff35230a-ddef-4359-be3e-9da9778c1aaa div.sk-label label {font-family: monospace;font-weight: bold;background-color: white;display: inline-block;line-height: 1.2em;}#sk-ff35230a-ddef-4359-be3e-9da9778c1aaa div.sk-label-container {position: relative;z-index: 2;text-align: center;}#sk-ff35230a-ddef-4359-be3e-9da9778c1aaa div.sk-container {/* jupyter's `normalize.less` sets `[hidden] { display: none; }` but bootstrap.min.css set `[hidden] { display: none !important; }` so we also need the `!important` here to be able to override the default hidden behavior on the sphinx rendered scikit-learn.org. See: https://github.com/scikit-learn/scikit-learn/issues/21755 */display: inline-block !important;position: relative;}#sk-ff35230a-ddef-4359-be3e-9da9778c1aaa div.sk-text-repr-fallback {display: none;}</style><div id=\"sk-ff35230a-ddef-4359-be3e-9da9778c1aaa\" class=\"sk-top-container\"><div class=\"sk-text-repr-fallback\"><pre>ExponentiatedGradient(constraints=&lt;fairlearn.reductions._moments.utility_parity.TruePositiveRateParity object at 0x00000231C25F3108&gt;,\n",
       "                      estimator=LogisticRegression(max_iter=1000,\n",
       "                                                   random_state=445),\n",
       "                      nu=0.002303028312475741)</pre><b>Please rerun this cell to show the HTML repr or trust the notebook.</b></div><div class=\"sk-container\" hidden><div class=\"sk-item sk-dashed-wrapped\"><div class=\"sk-label-container\"><div class=\"sk-label sk-toggleable\"><input class=\"sk-toggleable__control sk-hidden--visually\" id=\"390dc790-b455-4da6-9720-256c84c6ffa3\" type=\"checkbox\" ><label for=\"390dc790-b455-4da6-9720-256c84c6ffa3\" class=\"sk-toggleable__label sk-toggleable__label-arrow\">ExponentiatedGradient</label><div class=\"sk-toggleable__content\"><pre>ExponentiatedGradient(constraints=&lt;fairlearn.reductions._moments.utility_parity.TruePositiveRateParity object at 0x00000231C25F3108&gt;,\n",
       "                      estimator=LogisticRegression(max_iter=1000,\n",
       "                                                   random_state=445),\n",
       "                      nu=0.002303028312475741)</pre></div></div></div><div class=\"sk-parallel\"><div class=\"sk-parallel-item\"><div class=\"sk-item\"><div class=\"sk-serial\"><div class=\"sk-item\"><div class=\"sk-estimator sk-toggleable\"><input class=\"sk-toggleable__control sk-hidden--visually\" id=\"9a7271e3-ca37-424a-abab-f1cde72b4b40\" type=\"checkbox\" ><label for=\"9a7271e3-ca37-424a-abab-f1cde72b4b40\" class=\"sk-toggleable__label sk-toggleable__label-arrow\">LogisticRegression</label><div class=\"sk-toggleable__content\"><pre>LogisticRegression(max_iter=1000, random_state=445)</pre></div></div></div></div></div></div></div></div></div></div>"
      ],
      "text/plain": [
       "ExponentiatedGradient(constraints=<fairlearn.reductions._moments.utility_parity.TruePositiveRateParity object at 0x00000231C25F3108>,\n",
       "                      estimator=LogisticRegression(max_iter=1000,\n",
       "                                                   random_state=445),\n",
       "                      nu=0.002303028312475741)"
      ]
     },
     "execution_count": 48,
     "metadata": {},
     "output_type": "execute_result"
    }
   ],
   "source": [
    "# Fit the exponentiated gradient model\n",
    "expgrad_est.fit(X_train_bal, Y_train_bal, sensitive_features=A_train_bal)"
   ]
  },
  {
   "cell_type": "markdown",
   "metadata": {
    "id": "VsCeOlKFDQZZ"
   },
   "source": [
    "Similarly to `ThresholdOptimizer` the predictions of `ExponentiatedGradient` models are randomized. If we want to assure reproducible results, we can pass  `random_state` to the `predict` function. "
   ]
  },
  {
   "cell_type": "code",
   "execution_count": 49,
   "metadata": {
    "colab": {
     "base_uri": "https://localhost:8080/",
     "height": 203
    },
    "id": "YYz7GAqf4cbp",
    "outputId": "72957bdb-41c5-41c6-b9c5-7f0ba8fdf610"
   },
   "outputs": [
    {
     "data": {
      "text/html": [
       "<div>\n",
       "<style scoped>\n",
       "    .dataframe tbody tr th:only-of-type {\n",
       "        vertical-align: middle;\n",
       "    }\n",
       "\n",
       "    .dataframe tbody tr th {\n",
       "        vertical-align: top;\n",
       "    }\n",
       "\n",
       "    .dataframe thead th {\n",
       "        text-align: right;\n",
       "    }\n",
       "</style>\n",
       "<table border=\"1\" class=\"dataframe\">\n",
       "  <thead>\n",
       "    <tr style=\"text-align: right;\">\n",
       "      <th></th>\n",
       "      <th>selection_rate</th>\n",
       "      <th>false_negative_rate</th>\n",
       "      <th>balanced_accuracy</th>\n",
       "    </tr>\n",
       "    <tr>\n",
       "      <th>race</th>\n",
       "      <th></th>\n",
       "      <th></th>\n",
       "      <th></th>\n",
       "    </tr>\n",
       "  </thead>\n",
       "  <tbody>\n",
       "    <tr>\n",
       "      <th>AfricanAmerican</th>\n",
       "      <td>0.408</td>\n",
       "      <td>0.417</td>\n",
       "      <td>0.600</td>\n",
       "    </tr>\n",
       "    <tr>\n",
       "      <th>Caucasian</th>\n",
       "      <td>0.396</td>\n",
       "      <td>0.444</td>\n",
       "      <td>0.590</td>\n",
       "    </tr>\n",
       "    <tr>\n",
       "      <th>Other</th>\n",
       "      <td>0.345</td>\n",
       "      <td>0.514</td>\n",
       "      <td>0.579</td>\n",
       "    </tr>\n",
       "    <tr>\n",
       "      <th>Unknown</th>\n",
       "      <td>0.323</td>\n",
       "      <td>0.617</td>\n",
       "      <td>0.533</td>\n",
       "    </tr>\n",
       "  </tbody>\n",
       "</table>\n",
       "</div>"
      ],
      "text/plain": [
       "                selection_rate false_negative_rate balanced_accuracy\n",
       "race                                                                \n",
       "AfricanAmerican          0.408               0.417             0.600\n",
       "Caucasian                0.396               0.444             0.590\n",
       "Other                    0.345               0.514             0.579\n",
       "Unknown                  0.323               0.617             0.533"
      ]
     },
     "execution_count": 49,
     "metadata": {},
     "output_type": "execute_result"
    }
   ],
   "source": [
    "# Record and evaluate predictions on test data\n",
    "\n",
    "Y_pred_reductions = expgrad_est.predict(X_test, random_state=random_seed)\n",
    "metricframe_reductions = MetricFrame(\n",
    "    metrics=metrics_dict,\n",
    "    y_true=Y_test,\n",
    "    y_pred=Y_pred_reductions,\n",
    "    sensitive_features=A_test\n",
    ")\n",
    "metricframe_reductions.by_group"
   ]
  },
  {
   "cell_type": "code",
   "execution_count": 50,
   "metadata": {
    "colab": {
     "base_uri": "https://localhost:8080/"
    },
    "id": "idYvm9lq4mh3",
    "outputId": "0848b976-8651-45ae-ddb3-b906b9417ac5"
   },
   "outputs": [
    {
     "data": {
      "text/plain": [
       "selection_rate        0.085\n",
       "false_negative_rate   0.200\n",
       "balanced_accuracy     0.067\n",
       "dtype: object"
      ]
     },
     "execution_count": 50,
     "metadata": {},
     "output_type": "execute_result"
    }
   ],
   "source": [
    "# Evaluate the difference between the largest and smallest value of each metric\n",
    "metricframe_reductions.difference()"
   ]
  },
  {
   "cell_type": "markdown",
   "metadata": {
    "id": "qpxYOozouVx9"
   },
   "source": [
    "While there is a decrease in the false negative rate difference from the unmitigated model, this decrease is not as substantial as with `ThresholdOptimizer`. Note, however, that `ThresholdOptimizer` was able to use the sensitive feature (i.e., race) at deployment time."
   ]
  },
  {
   "cell_type": "markdown",
   "metadata": {
    "id": "IzTeHhWG4nJJ"
   },
   "source": [
    "### Explore individual predictors"
   ]
  },
  {
   "cell_type": "markdown",
   "metadata": {
    "id": "o7qCmHeYKWGp"
   },
   "source": [
    "During the training process, the `ExponentiatedGradient` algorithm iteratively trains multiple inner models on a reweighted training dataset. The algorithm stores each of these predictors and then randomizes among them at deployment time.\n",
    "\n",
    "In many applications, the randomization is undesirable, and also using multiple inner models can pose issues for interpretability. However, the inner models that `ExponentiatedGradient` relies on span a variety of fairness-accuracy trade-offs, and they could be considered for stand-alone deployment: addressing the randomization and interpretability issues, while possibly offering additional flexibility thanks to a variety of trade-offs. \n",
    "\n",
    "In this section explore the performance of the individual predictors learned by the `ExponentiatedGradient` algorithm. First, note that since the base estimator was `LogisticRegression` all these predictors are different logistic regression models:"
   ]
  },
  {
   "cell_type": "code",
   "execution_count": 51,
   "metadata": {
    "colab": {
     "base_uri": "https://localhost:8080/"
    },
    "id": "II_YtUZg3Ue4",
    "outputId": "76948908-4240-4d6b-d1db-38cbeda7d5be"
   },
   "outputs": [
    {
     "data": {
      "text/plain": [
       "0     LogisticRegression(max_iter=1000, random_state...\n",
       "1     LogisticRegression(max_iter=1000, random_state...\n",
       "2     LogisticRegression(max_iter=1000, random_state...\n",
       "3     LogisticRegression(max_iter=1000, random_state...\n",
       "4     LogisticRegression(max_iter=1000, random_state...\n",
       "5     LogisticRegression(max_iter=1000, random_state...\n",
       "6     LogisticRegression(max_iter=1000, random_state...\n",
       "7     LogisticRegression(max_iter=1000, random_state...\n",
       "8     LogisticRegression(max_iter=1000, random_state...\n",
       "9     LogisticRegression(max_iter=1000, random_state...\n",
       "10    LogisticRegression(max_iter=1000, random_state...\n",
       "11    LogisticRegression(max_iter=1000, random_state...\n",
       "12    LogisticRegression(max_iter=1000, random_state...\n",
       "dtype: object"
      ]
     },
     "execution_count": 51,
     "metadata": {},
     "output_type": "execute_result"
    }
   ],
   "source": [
    "predictors = expgrad_est.predictors_\n",
    "predictors"
   ]
  },
  {
   "cell_type": "code",
   "execution_count": 52,
   "metadata": {
    "id": "K3Bh2IVm4Ynj"
   },
   "outputs": [],
   "source": [
    "# Collect predictions by all predictors and calculate balanced error\n",
    "# as well as the false negative difference for all of them\n",
    "\n",
    "sweep_preds = [clf.predict(X_test) for clf in predictors]\n",
    "balanced_error_sweep = [1-balanced_accuracy_score(Y_test, Y_sweep) for Y_sweep in sweep_preds]\n",
    "fnr_diff_sweep = [false_negative_rate_difference(Y_test, Y_sweep, sensitive_features=A_test) for Y_sweep in sweep_preds]"
   ]
  },
  {
   "cell_type": "code",
   "execution_count": 53,
   "metadata": {
    "colab": {
     "base_uri": "https://localhost:8080/",
     "height": 260
    },
    "id": "r9TKGsNY8Myu",
    "outputId": "06146e22-ea39-4d70-9488-0dd9b03eddca"
   },
   "outputs": [
    {
     "data": {
      "image/png": "[encoded data removed]",
      "text/plain": [
       "<Figure size 432x288 with 1 Axes>"
      ]
     },
     "metadata": {},
     "output_type": "display_data"
    }
   ],
   "source": [
    "# Show the balanced error / fnr difference values of all predictors on a raster plot  \n",
    "\n",
    "plt.scatter(balanced_error_sweep, fnr_diff_sweep, label=\"ExponentiatedGradient - Iterations\")\n",
    "for i in range(len(predictors)):\n",
    "  plt.annotate(str(i), xy=(balanced_error_sweep[i]+0.001, fnr_diff_sweep[i]+0.001))\n",
    "\n",
    "# Also include in the plot the combined ExponentiatedGradient model\n",
    "# as well as the three previously fitted models\n",
    "\n",
    "plt.scatter(1-balanced_accuracy_score(Y_test, Y_pred_reductions),\n",
    "            false_negative_rate_difference(Y_test, Y_pred_reductions, sensitive_features=A_test),\n",
    "            label=\"ExponentiatedGradient - Combined model\")\n",
    "plt.scatter(1-balanced_accuracy_score(Y_test, Y_pred),\n",
    "            false_negative_rate_difference(Y_test, Y_pred, sensitive_features=A_test),\n",
    "            label=\"Unmitigated\")\n",
    "plt.scatter(1-balanced_accuracy_score(Y_test, Y_pred_postprocess),\n",
    "            false_negative_rate_difference(Y_test, Y_pred_postprocess, sensitive_features=A_test),\n",
    "            label=\"ThresholdOptimizer\")\n",
    "\n",
    "plt.xlabel(\"Balanced Error Rate\")\n",
    "plt.ylabel(\"False Negative Rate Difference\")\n",
    "plt.legend(bbox_to_anchor=(1.9,1))\n",
    "plt.show()"
   ]
  },
  {
   "cell_type": "markdown",
   "metadata": {
    "id": "iyknfgrsW1gi"
   },
   "source": [
    "## Comparing performance of different techniques"
   ]
  },
  {
   "cell_type": "markdown",
   "metadata": {
    "id": "Vee-7c2Tw33O"
   },
   "source": [
    "Now we have covered two different class of techniques for mitigating the fairness-related harms we found in our fairness-unaware model. In this section, we will compare the performance of the models we trained above across our key metrics."
   ]
  },
  {
   "cell_type": "markdown",
   "metadata": {
    "id": "XEXnEeLl7mgc"
   },
   "source": [
    "#### Model performance - by group"
   ]
  },
  {
   "cell_type": "code",
   "execution_count": 54,
   "metadata": {
    "id": "SNyCZxHJuXZV"
   },
   "outputs": [],
   "source": [
    "def plot_technique_comparison(mf_dict, metric):\n",
    "  \"\"\"\n",
    "  Plots a specified metric for a given dictionary of MetricFrames.\n",
    "  \"\"\"\n",
    "  mf_dict = {k:v.by_group[metric] for (k,v) in mf_dict.items()}\n",
    "  comparison_df = pd.DataFrame.from_dict(mf_dict)\n",
    "  comparison_df.plot.bar(figsize=(12, 6), legend=False)\n",
    "  plt.title(metric)\n",
    "  plt.xticks(rotation=0, ha='center');\n",
    "  plt.legend(bbox_to_anchor=(1.01,1), loc='upper left')"
   ]
  },
  {
   "cell_type": "code",
   "execution_count": 55,
   "metadata": {
    "id": "9dNb-kI3uHzM"
   },
   "outputs": [],
   "source": [
    "test_dict = {\n",
    "    \"Reductions\": metricframe_reductions,\n",
    "    \"Unmitigated\": metricframe_unmitigated,\n",
    "    \"Postprocessing\": metricframe_postprocess\n",
    "}"
   ]
  },
  {
   "cell_type": "code",
   "execution_count": 56,
   "metadata": {
    "colab": {
     "base_uri": "https://localhost:8080/",
     "height": 297
    },
    "id": "SweXBa-vEWFM",
    "outputId": "a230ed5d-2665-477d-adba-287c76020032"
   },
   "outputs": [
    {
     "data": {
      "image/png": "[encoded data removed]",
      "text/plain": [
       "<Figure size 864x432 with 1 Axes>"
      ]
     },
     "metadata": {},
     "output_type": "display_data"
    }
   ],
   "source": [
    "plot_technique_comparison(test_dict, \"false_negative_rate\")"
   ]
  },
  {
   "cell_type": "code",
   "execution_count": 57,
   "metadata": {
    "colab": {
     "base_uri": "https://localhost:8080/",
     "height": 297
    },
    "id": "FJOwW9db3wKe",
    "outputId": "a34b7c03-6bfc-4843-c67e-bc5997ebf86c"
   },
   "outputs": [
    {
     "data": {
      "image/png": "[encoded data removed]",
      "text/plain": [
       "<Figure size 864x432 with 1 Axes>"
      ]
     },
     "metadata": {},
     "output_type": "display_data"
    }
   ],
   "source": [
    "plot_technique_comparison(test_dict, \"balanced_accuracy\")"
   ]
  },
  {
   "cell_type": "markdown",
   "metadata": {
    "id": "OYkgAggpW11N"
   },
   "source": [
    "\n",
    "\n",
    "#### Model performance - overall"
   ]
  },
  {
   "cell_type": "code",
   "execution_count": 58,
   "metadata": {
    "id": "w3Rwe98m6Pv2"
   },
   "outputs": [],
   "source": [
    "overall_df = pd.DataFrame.from_dict({\n",
    "    \"Unmitigated\": metricframe_unmitigated.overall,\n",
    "    \"Postprocessing\": metricframe_postprocess.overall,\n",
    "    \"Reductions\": metricframe_reductions.overall\n",
    "})"
   ]
  },
  {
   "cell_type": "code",
   "execution_count": 59,
   "metadata": {
    "colab": {
     "base_uri": "https://localhost:8080/",
     "height": 172
    },
    "id": "44Q-lYTa6PzX",
    "outputId": "376ce1db-ead9-4984-83c6-7e59e815a1b2"
   },
   "outputs": [
    {
     "data": {
      "text/html": [
       "<div>\n",
       "<style scoped>\n",
       "    .dataframe tbody tr th:only-of-type {\n",
       "        vertical-align: middle;\n",
       "    }\n",
       "\n",
       "    .dataframe tbody tr th {\n",
       "        vertical-align: top;\n",
       "    }\n",
       "\n",
       "    .dataframe thead th {\n",
       "        text-align: right;\n",
       "    }\n",
       "</style>\n",
       "<table border=\"1\" class=\"dataframe\">\n",
       "  <thead>\n",
       "    <tr style=\"text-align: right;\">\n",
       "      <th></th>\n",
       "      <th>selection_rate</th>\n",
       "      <th>false_negative_rate</th>\n",
       "      <th>balanced_accuracy</th>\n",
       "    </tr>\n",
       "  </thead>\n",
       "  <tbody>\n",
       "    <tr>\n",
       "      <th>Unmitigated</th>\n",
       "      <td>0.387</td>\n",
       "      <td>0.446</td>\n",
       "      <td>0.594</td>\n",
       "    </tr>\n",
       "    <tr>\n",
       "      <th>Postprocessing</th>\n",
       "      <td>0.445</td>\n",
       "      <td>0.395</td>\n",
       "      <td>0.591</td>\n",
       "    </tr>\n",
       "    <tr>\n",
       "      <th>Reductions</th>\n",
       "      <td>0.395</td>\n",
       "      <td>0.444</td>\n",
       "      <td>0.591</td>\n",
       "    </tr>\n",
       "  </tbody>\n",
       "</table>\n",
       "</div>"
      ],
      "text/plain": [
       "               selection_rate false_negative_rate balanced_accuracy\n",
       "Unmitigated             0.387               0.446             0.594\n",
       "Postprocessing          0.445               0.395             0.591\n",
       "Reductions              0.395               0.444             0.591"
      ]
     },
     "execution_count": 59,
     "metadata": {},
     "output_type": "execute_result"
    }
   ],
   "source": [
    "overall_df.T"
   ]
  },
  {
   "cell_type": "code",
   "execution_count": 60,
   "metadata": {
    "colab": {
     "base_uri": "https://localhost:8080/",
     "height": 359
    },
    "id": "yUaAejwa6P3F",
    "outputId": "c6d84d35-fdde-47be-af88-69881afaa163",
    "scrolled": true
   },
   "outputs": [
    {
     "data": {
      "image/png": "[encoded data removed]",
      "text/plain": [
       "<Figure size 864x360 with 3 Axes>"
      ]
     },
     "metadata": {},
     "output_type": "display_data"
    }
   ],
   "source": [
    "overall_df.transpose().plot.bar(subplots=True, layout= [1,3], figsize=(12, 5), legend=False, rot=-45, position=1.5);"
   ]
  },
  {
   "cell_type": "markdown",
   "metadata": {
    "id": "P9dvkQvKW1lv"
   },
   "source": [
    "### Access to sensitive features\n",
    "\n"
   ]
  },
  {
   "cell_type": "markdown",
   "metadata": {
    "id": "L56tawsAW14B"
   },
   "source": [
    "\n",
    "\n",
    "*   The `ThresholdOptimizer` model requires access to the sensitive features during BOTH training time and once deployed. If you do not have access to the sensitive features once the model is deployed, you will not be able to use the `ThresholdOptimizer`.\n",
    "*   The `ExponentiatedGradient` model requires access to the sensitive features ONLY during training time. \n",
    "\n",
    "\n"
   ]
  },
  {
   "cell_type": "markdown",
   "metadata": {
    "id": "1j9WzWcCVbZV"
   },
   "source": [
    "# Further resources"
   ]
  },
  {
   "cell_type": "markdown",
   "metadata": {
    "id": "xtvW54LtB8hp"
   },
   "source": [
    "Definitely check out the extended versions of this notebook at https://github.com/fairlearn/talks\n",
    "\n",
    "Further resources can also be found [on our website](https://fairlearn.org/main/user_guide/further_resources.html)."
   ]
  },
  {
   "cell_type": "code",
   "execution_count": null,
   "metadata": {},
   "outputs": [],
   "source": []
  }
 ],
 "metadata": {
  "colab": {
   "collapsed_sections": [
    "4MMbl3u7-J-a",
    "ZVSerRqDG3we"
   ],
   "name": "SciPy 2021 Tutorial.ipynb",
   "provenance": [],
   "toc_visible": true
  },
  "interpreter": {
   "hash": "a025db62d48a12d86b0e6b0cb53f59776c5e11a448915a1ba45134646da53519"
  },
  "kernelspec": {
   "display_name": "Python 3",
   "language": "python",
   "name": "python3"
  },
  "language_info": {
   "codemirror_mode": {
    "name": "ipython",
    "version": 3
   },
   "file_extension": ".py",
   "mimetype": "text/x-python",
   "name": "python",
   "nbconvert_exporter": "python",
   "pygments_lexer": "ipython3",
   "version": "3.7.11"
  }
 },
 "nbformat": 4,
 "nbformat_minor": 1
}
